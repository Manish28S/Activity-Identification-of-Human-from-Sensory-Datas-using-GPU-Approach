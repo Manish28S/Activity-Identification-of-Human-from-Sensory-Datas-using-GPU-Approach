{
 "cells": [
  {
   "cell_type": "code",
   "execution_count": 1,
   "id": "7f469380",
   "metadata": {
    "execution": {
     "iopub.execute_input": "2023-12-06T15:59:59.260996Z",
     "iopub.status.busy": "2023-12-06T15:59:59.260612Z",
     "iopub.status.idle": "2023-12-06T16:00:32.125839Z",
     "shell.execute_reply": "2023-12-06T16:00:32.124819Z"
    },
    "papermill": {
     "duration": 32.881319,
     "end_time": "2023-12-06T16:00:32.128478",
     "exception": false,
     "start_time": "2023-12-06T15:59:59.247159",
     "status": "completed"
    },
    "tags": []
   },
   "outputs": [
    {
     "name": "stdout",
     "output_type": "stream",
     "text": [
      "Requirement already satisfied: opencv-python in /opt/conda/lib/python3.10/site-packages (4.8.0.76)\r\n",
      "Requirement already satisfied: numpy>=1.21.2 in /opt/conda/lib/python3.10/site-packages (from opencv-python) (1.23.5)\r\n"
     ]
    }
   ],
   "source": [
    "!pip install opencv-python\n"
   ]
  },
  {
   "cell_type": "code",
   "execution_count": 2,
   "id": "1cc7ef3f",
   "metadata": {
    "execution": {
     "iopub.execute_input": "2023-12-06T16:00:32.153716Z",
     "iopub.status.busy": "2023-12-06T16:00:32.153438Z",
     "iopub.status.idle": "2023-12-06T16:00:43.558191Z",
     "shell.execute_reply": "2023-12-06T16:00:43.557093Z"
    },
    "papermill": {
     "duration": 11.419657,
     "end_time": "2023-12-06T16:00:43.560344",
     "exception": false,
     "start_time": "2023-12-06T16:00:32.140687",
     "status": "completed"
    },
    "tags": []
   },
   "outputs": [
    {
     "name": "stdout",
     "output_type": "stream",
     "text": [
      "Frames extracted and resized from /kaggle/input/final-year-project/project_videos/Sitting/video_folder(3).mp4: 132 frames\n",
      "Frames extracted and resized from /kaggle/input/final-year-project/project_videos/Sitting/video_folder(5).mp4: 70 frames\n",
      "Frames extracted and resized from /kaggle/input/final-year-project/project_videos/Sitting/video_folder(1).mp4: 71 frames\n",
      "Frames extracted and resized from /kaggle/input/final-year-project/project_videos/Sitting/video_folder(2).mp4: 88 frames\n",
      "Frames extracted and resized from /kaggle/input/final-year-project/project_videos/Sitting/video_folder(4).mp4: 61 frames\n",
      "Frames extracted and resized from /kaggle/input/final-year-project/project_videos/Sitting/video_folder.mp4: 77 frames\n",
      "Frames extracted and resized from /kaggle/input/final-year-project/project_videos/Walking/video_folder(3).mp4: 130 frames\n",
      "Frames extracted and resized from /kaggle/input/final-year-project/project_videos/Walking/video_folder(5).mp4: 184 frames\n",
      "Frames extracted and resized from /kaggle/input/final-year-project/project_videos/Walking/video_folder(1).mp4: 58 frames\n",
      "Frames extracted and resized from /kaggle/input/final-year-project/project_videos/Walking/video_folder(2).mp4: 51 frames\n",
      "Frames extracted and resized from /kaggle/input/final-year-project/project_videos/Walking/video_folder(4).mp4: 103 frames\n",
      "Frames extracted and resized from /kaggle/input/final-year-project/project_videos/Walking/video_folder.mp4: 183 frames\n",
      "Frames extracted and resized from /kaggle/input/final-year-project/project_videos/Walking/video_folder(7).mp4: 97 frames\n",
      "Frames extracted and resized from /kaggle/input/final-year-project/project_videos/Walking/video_folder(6).mp4: 66 frames\n",
      "Frames extracted and resized from /kaggle/input/final-year-project/project_videos/Running/video_folder(1).mp4: 55 frames\n",
      "Frames extracted and resized from /kaggle/input/final-year-project/project_videos/Running/video_folder.mp4: 121 frames\n",
      "Frames extracted and resized from /kaggle/input/final-year-project/project_videos/Downstairs/video_folder(3).mp4: 56 frames\n",
      "Frames extracted and resized from /kaggle/input/final-year-project/project_videos/Downstairs/video_folder(1).mp4: 97 frames\n",
      "Frames extracted and resized from /kaggle/input/final-year-project/project_videos/Downstairs/video_folder(2).mp4: 81 frames\n",
      "Frames extracted and resized from /kaggle/input/final-year-project/project_videos/Downstairs/video_folder.mp4: 115 frames\n",
      "Frames extracted and resized from /kaggle/input/final-year-project/project_videos/Standing/video_folder(1).mp4: 102 frames\n",
      "Frames extracted and resized from /kaggle/input/final-year-project/project_videos/Standing/video_folder(2).mp4: 73 frames\n",
      "Frames extracted and resized from /kaggle/input/final-year-project/project_videos/Standing/video_folder.mp4: 79 frames\n",
      "Frames extracted and resized from /kaggle/input/final-year-project/project_videos/upstairs/video_folder(1).mp4: 71 frames\n",
      "Frames extracted and resized from /kaggle/input/final-year-project/project_videos/upstairs/video_folder(2).mp4: 76 frames\n",
      "Frames extracted and resized from /kaggle/input/final-year-project/project_videos/upstairs/video_folder.mp4: 126 frames\n",
      "Frames extracted and resized from /kaggle/input/final-year-project/project_videos/Jogging/video_folder(1).mp4: 65 frames\n",
      "Frames extracted and resized from /kaggle/input/final-year-project/project_videos/Jogging/video_folder(2).mp4: 74 frames\n",
      "Frames extracted and resized from /kaggle/input/final-year-project/project_videos/Jogging/video_folder.mp4: 74 frames\n",
      "All videos processed.\n"
     ]
    }
   ],
   "source": [
    "import cv2\n",
    "import os\n",
    "\n",
    "# Define the input folder containing the video files and subfolders\n",
    "input_folder = '/kaggle/input/final-year-project/project_videos'\n",
    "\n",
    "# Define the output folder where frames will be saved\n",
    "output_folder = '/kaggle/working/project_frames_resized'\n",
    "\n",
    "# Create the output folder if it doesn't exist\n",
    "os.makedirs(output_folder, exist_ok=True)\n",
    "\n",
    "# List all video files in the input folder and its subfolders\n",
    "video_files = [os.path.join(root, f) for root, dirs, files in os.walk(input_folder) for f in files if f.endswith('.mp4')]\n",
    "\n",
    "image_size = (224, 224)  # Set the desired image size\n",
    "\n",
    "for video_file in video_files:\n",
    "    video_capture = cv2.VideoCapture(video_file)\n",
    "\n",
    "    frame_count = 0\n",
    "\n",
    "    if not video_capture.isOpened():\n",
    "        print(f\"Error: Could not open video file {video_file}\")\n",
    "        continue\n",
    "\n",
    "    while True:\n",
    "        ret, frame = video_capture.read()\n",
    "\n",
    "        if not ret:\n",
    "            break\n",
    "\n",
    "        frame_count += 1\n",
    "\n",
    "        # Resize the frame\n",
    "        frame = cv2.resize(frame, image_size)\n",
    "\n",
    "        # Create subdirectories in the output folder based on the input folder structure\n",
    "        subdirectory = os.path.relpath(os.path.dirname(video_file), input_folder)\n",
    "        output_subfolder = os.path.join(output_folder, subdirectory)\n",
    "        os.makedirs(output_subfolder, exist_ok=True)\n",
    "\n",
    "        frame_filename = f\"{os.path.splitext(os.path.basename(video_file))[0]}_frame{frame_count:04d}.jpg\"\n",
    "        frame_path = os.path.join(output_subfolder, frame_filename)\n",
    "\n",
    "        cv2.imwrite(frame_path, frame)\n",
    "\n",
    "    video_capture.release()\n",
    "\n",
    "    print(f\"Frames extracted and resized from {video_file}: {frame_count} frames\")\n",
    "\n",
    "print(\"All videos processed.\")\n"
   ]
  },
  {
   "cell_type": "code",
   "execution_count": 3,
   "id": "e4a808ee",
   "metadata": {
    "execution": {
     "iopub.execute_input": "2023-12-06T16:00:43.590331Z",
     "iopub.status.busy": "2023-12-06T16:00:43.590005Z",
     "iopub.status.idle": "2023-12-06T16:00:44.605598Z",
     "shell.execute_reply": "2023-12-06T16:00:44.604688Z"
    },
    "papermill": {
     "duration": 1.032989,
     "end_time": "2023-12-06T16:00:44.607644",
     "exception": false,
     "start_time": "2023-12-06T16:00:43.574655",
     "status": "completed"
    },
    "tags": []
   },
   "outputs": [
    {
     "data": {
      "text/plain": [
       "array([[[160, 170, 167],\n",
       "        [160, 170, 167],\n",
       "        [160, 170, 167],\n",
       "        ...,\n",
       "        [151, 150, 143],\n",
       "        [151, 150, 143],\n",
       "        [151, 150, 143]],\n",
       "\n",
       "       [[161, 171, 168],\n",
       "        [161, 171, 168],\n",
       "        [161, 171, 168],\n",
       "        ...,\n",
       "        [151, 150, 143],\n",
       "        [151, 150, 143],\n",
       "        [151, 150, 143]],\n",
       "\n",
       "       [[161, 171, 168],\n",
       "        [161, 171, 168],\n",
       "        [161, 171, 168],\n",
       "        ...,\n",
       "        [150, 149, 142],\n",
       "        [150, 149, 142],\n",
       "        [150, 149, 142]],\n",
       "\n",
       "       ...,\n",
       "\n",
       "       [[183, 197, 193],\n",
       "        [176, 190, 186],\n",
       "        [172, 186, 182],\n",
       "        ...,\n",
       "        [153, 163, 160],\n",
       "        [163, 173, 170],\n",
       "        [181, 191, 188]],\n",
       "\n",
       "       [[183, 197, 193],\n",
       "        [166, 180, 176],\n",
       "        [166, 180, 176],\n",
       "        ...,\n",
       "        [158, 168, 165],\n",
       "        [153, 163, 160],\n",
       "        [167, 177, 174]],\n",
       "\n",
       "       [[179, 193, 189],\n",
       "        [158, 172, 168],\n",
       "        [156, 170, 166],\n",
       "        ...,\n",
       "        [169, 179, 176],\n",
       "        [159, 169, 166],\n",
       "        [150, 160, 157]]], dtype=uint8)"
      ]
     },
     "metadata": {},
     "output_type": "display_data"
    },
    {
     "name": "stdout",
     "output_type": "stream",
     "text": [
      "1 frames displayed from /kaggle/input/final-year-project/project_videos/Sitting/video_folder(3).mp4\n"
     ]
    },
    {
     "data": {
      "text/plain": [
       "array([[[202, 203, 206],\n",
       "        [202, 203, 206],\n",
       "        [202, 203, 206],\n",
       "        ...,\n",
       "        [189, 184, 183],\n",
       "        [189, 184, 183],\n",
       "        [189, 184, 183]],\n",
       "\n",
       "       [[202, 203, 206],\n",
       "        [202, 203, 206],\n",
       "        [202, 203, 206],\n",
       "        ...,\n",
       "        [189, 184, 183],\n",
       "        [189, 184, 183],\n",
       "        [189, 184, 183]],\n",
       "\n",
       "       [[202, 203, 206],\n",
       "        [202, 203, 206],\n",
       "        [202, 203, 206],\n",
       "        ...,\n",
       "        [189, 184, 183],\n",
       "        [189, 184, 183],\n",
       "        [189, 184, 183]],\n",
       "\n",
       "       ...,\n",
       "\n",
       "       [[204, 213, 215],\n",
       "        [194, 203, 205],\n",
       "        [206, 215, 217],\n",
       "        ...,\n",
       "        [213, 218, 217],\n",
       "        [211, 216, 215],\n",
       "        [212, 217, 216]],\n",
       "\n",
       "       [[207, 216, 218],\n",
       "        [200, 209, 211],\n",
       "        [208, 217, 219],\n",
       "        ...,\n",
       "        [211, 216, 215],\n",
       "        [210, 215, 214],\n",
       "        [211, 216, 215]],\n",
       "\n",
       "       [[211, 220, 222],\n",
       "        [211, 220, 222],\n",
       "        [213, 222, 224],\n",
       "        ...,\n",
       "        [206, 211, 210],\n",
       "        [206, 211, 210],\n",
       "        [206, 211, 210]]], dtype=uint8)"
      ]
     },
     "metadata": {},
     "output_type": "display_data"
    },
    {
     "name": "stdout",
     "output_type": "stream",
     "text": [
      "1 frames displayed from /kaggle/input/final-year-project/project_videos/Sitting/video_folder(5).mp4\n"
     ]
    },
    {
     "data": {
      "text/plain": [
       "array([[[109, 116, 114],\n",
       "        [109, 116, 114],\n",
       "        [106, 113, 111],\n",
       "        ...,\n",
       "        [113, 123, 127],\n",
       "        [113, 123, 127],\n",
       "        [111, 121, 125]],\n",
       "\n",
       "       [[109, 116, 114],\n",
       "        [109, 116, 114],\n",
       "        [106, 113, 111],\n",
       "        ...,\n",
       "        [113, 123, 127],\n",
       "        [113, 123, 127],\n",
       "        [111, 121, 125]],\n",
       "\n",
       "       [[110, 117, 115],\n",
       "        [109, 116, 114],\n",
       "        [107, 114, 112],\n",
       "        ...,\n",
       "        [113, 123, 127],\n",
       "        [113, 123, 127],\n",
       "        [111, 121, 125]],\n",
       "\n",
       "       ...,\n",
       "\n",
       "       [[  5,   5,   5],\n",
       "        [  0,   0,   0],\n",
       "        [  0,   0,   0],\n",
       "        ...,\n",
       "        [ 69,  68,  57],\n",
       "        [ 68,  67,  56],\n",
       "        [ 68,  67,  56]],\n",
       "\n",
       "       [[  9,   9,   9],\n",
       "        [  0,   0,   0],\n",
       "        [  0,   0,   0],\n",
       "        ...,\n",
       "        [ 69,  68,  59],\n",
       "        [ 68,  67,  56],\n",
       "        [ 68,  67,  56]],\n",
       "\n",
       "       [[ 11,  11,  11],\n",
       "        [  0,   0,   0],\n",
       "        [  0,   0,   0],\n",
       "        ...,\n",
       "        [ 69,  68,  59],\n",
       "        [ 68,  67,  56],\n",
       "        [ 68,  67,  56]]], dtype=uint8)"
      ]
     },
     "metadata": {},
     "output_type": "display_data"
    },
    {
     "name": "stdout",
     "output_type": "stream",
     "text": [
      "1 frames displayed from /kaggle/input/final-year-project/project_videos/Sitting/video_folder(1).mp4\n"
     ]
    },
    {
     "data": {
      "text/plain": [
       "array([[[153, 154, 146],\n",
       "        [153, 154, 146],\n",
       "        [153, 154, 146],\n",
       "        ...,\n",
       "        [172, 174, 174],\n",
       "        [172, 174, 174],\n",
       "        [172, 174, 174]],\n",
       "\n",
       "       [[153, 154, 146],\n",
       "        [153, 154, 146],\n",
       "        [153, 154, 146],\n",
       "        ...,\n",
       "        [172, 174, 174],\n",
       "        [172, 174, 174],\n",
       "        [172, 174, 174]],\n",
       "\n",
       "       [[153, 154, 146],\n",
       "        [153, 154, 146],\n",
       "        [153, 154, 146],\n",
       "        ...,\n",
       "        [172, 174, 174],\n",
       "        [172, 174, 174],\n",
       "        [172, 174, 174]],\n",
       "\n",
       "       ...,\n",
       "\n",
       "       [[154, 153, 142],\n",
       "        [154, 153, 142],\n",
       "        [154, 153, 142],\n",
       "        ...,\n",
       "        [116,  99,  71],\n",
       "        [104,  87,  61],\n",
       "        [ 79,  62,  36]],\n",
       "\n",
       "       [[153, 152, 141],\n",
       "        [153, 152, 141],\n",
       "        [153, 152, 141],\n",
       "        ...,\n",
       "        [117, 100,  72],\n",
       "        [102,  85,  59],\n",
       "        [ 79,  62,  36]],\n",
       "\n",
       "       [[153, 152, 141],\n",
       "        [153, 152, 141],\n",
       "        [153, 152, 141],\n",
       "        ...,\n",
       "        [117, 100,  72],\n",
       "        [101,  84,  58],\n",
       "        [ 78,  61,  35]]], dtype=uint8)"
      ]
     },
     "metadata": {},
     "output_type": "display_data"
    },
    {
     "name": "stdout",
     "output_type": "stream",
     "text": [
      "1 frames displayed from /kaggle/input/final-year-project/project_videos/Sitting/video_folder(2).mp4\n"
     ]
    },
    {
     "data": {
      "text/plain": [
       "array([[[229, 231, 216],\n",
       "        [229, 231, 216],\n",
       "        [229, 231, 216],\n",
       "        ...,\n",
       "        [ 92,  95, 106],\n",
       "        [101, 104, 115],\n",
       "        [160, 163, 174]],\n",
       "\n",
       "       [[229, 231, 216],\n",
       "        [229, 231, 216],\n",
       "        [229, 231, 216],\n",
       "        ...,\n",
       "        [ 93,  96, 107],\n",
       "        [107, 110, 121],\n",
       "        [154, 157, 168]],\n",
       "\n",
       "       [[229, 231, 216],\n",
       "        [229, 231, 216],\n",
       "        [229, 231, 216],\n",
       "        ...,\n",
       "        [ 94,  97, 108],\n",
       "        [121, 124, 135],\n",
       "        [147, 150, 161]],\n",
       "\n",
       "       ...,\n",
       "\n",
       "       [[249, 249, 249],\n",
       "        [249, 249, 249],\n",
       "        [248, 248, 248],\n",
       "        ...,\n",
       "        [212, 212, 198],\n",
       "        [212, 212, 198],\n",
       "        [212, 212, 198]],\n",
       "\n",
       "       [[253, 253, 253],\n",
       "        [251, 251, 251],\n",
       "        [248, 248, 248],\n",
       "        ...,\n",
       "        [212, 212, 198],\n",
       "        [212, 212, 198],\n",
       "        [212, 212, 198]],\n",
       "\n",
       "       [[255, 255, 255],\n",
       "        [251, 251, 251],\n",
       "        [248, 248, 248],\n",
       "        ...,\n",
       "        [212, 212, 198],\n",
       "        [212, 212, 198],\n",
       "        [212, 212, 198]]], dtype=uint8)"
      ]
     },
     "metadata": {},
     "output_type": "display_data"
    },
    {
     "name": "stdout",
     "output_type": "stream",
     "text": [
      "1 frames displayed from /kaggle/input/final-year-project/project_videos/Sitting/video_folder(4).mp4\n"
     ]
    },
    {
     "data": {
      "text/plain": [
       "array([[[255, 255, 255],\n",
       "        [242, 242, 242],\n",
       "        [188, 188, 188],\n",
       "        ...,\n",
       "        [149, 154, 153],\n",
       "        [148, 153, 152],\n",
       "        [148, 153, 152]],\n",
       "\n",
       "       [[255, 255, 255],\n",
       "        [253, 253, 253],\n",
       "        [239, 239, 239],\n",
       "        ...,\n",
       "        [149, 154, 153],\n",
       "        [148, 153, 152],\n",
       "        [148, 153, 152]],\n",
       "\n",
       "       [[255, 255, 255],\n",
       "        [252, 252, 252],\n",
       "        [253, 253, 253],\n",
       "        ...,\n",
       "        [149, 154, 153],\n",
       "        [148, 153, 152],\n",
       "        [148, 153, 152]],\n",
       "\n",
       "       ...,\n",
       "\n",
       "       [[ 84,  83,  74],\n",
       "        [ 84,  83,  74],\n",
       "        [ 86,  85,  76],\n",
       "        ...,\n",
       "        [ 37,  33,  25],\n",
       "        [ 35,  31,  23],\n",
       "        [ 34,  30,  22]],\n",
       "\n",
       "       [[ 84,  83,  74],\n",
       "        [ 84,  83,  74],\n",
       "        [ 84,  83,  74],\n",
       "        ...,\n",
       "        [ 37,  33,  25],\n",
       "        [ 36,  32,  24],\n",
       "        [ 35,  31,  23]],\n",
       "\n",
       "       [[ 84,  83,  74],\n",
       "        [ 84,  83,  74],\n",
       "        [ 84,  83,  74],\n",
       "        ...,\n",
       "        [ 39,  35,  27],\n",
       "        [ 36,  32,  24],\n",
       "        [ 36,  32,  24]]], dtype=uint8)"
      ]
     },
     "metadata": {},
     "output_type": "display_data"
    },
    {
     "name": "stdout",
     "output_type": "stream",
     "text": [
      "1 frames displayed from /kaggle/input/final-year-project/project_videos/Sitting/video_folder.mp4\n"
     ]
    },
    {
     "data": {
      "text/plain": [
       "array([[[121,  88,  49],\n",
       "        [121,  88,  49],\n",
       "        [121,  88,  49],\n",
       "        ...,\n",
       "        [255, 255, 255],\n",
       "        [255, 255, 255],\n",
       "        [255, 255, 255]],\n",
       "\n",
       "       [[121,  88,  49],\n",
       "        [121,  88,  49],\n",
       "        [121,  88,  49],\n",
       "        ...,\n",
       "        [255, 255, 255],\n",
       "        [255, 255, 255],\n",
       "        [255, 255, 255]],\n",
       "\n",
       "       [[121,  88,  49],\n",
       "        [121,  88,  49],\n",
       "        [121,  88,  49],\n",
       "        ...,\n",
       "        [255, 255, 255],\n",
       "        [255, 255, 255],\n",
       "        [255, 255, 255]],\n",
       "\n",
       "       ...,\n",
       "\n",
       "       [[163, 168, 167],\n",
       "        [164, 169, 168],\n",
       "        [164, 169, 168],\n",
       "        ...,\n",
       "        [124, 120, 114],\n",
       "        [125, 121, 115],\n",
       "        [126, 122, 116]],\n",
       "\n",
       "       [[163, 168, 167],\n",
       "        [164, 169, 168],\n",
       "        [164, 169, 168],\n",
       "        ...,\n",
       "        [122, 118, 112],\n",
       "        [125, 121, 115],\n",
       "        [126, 122, 116]],\n",
       "\n",
       "       [[163, 168, 167],\n",
       "        [164, 169, 168],\n",
       "        [164, 169, 168],\n",
       "        ...,\n",
       "        [122, 118, 112],\n",
       "        [125, 121, 115],\n",
       "        [126, 122, 116]]], dtype=uint8)"
      ]
     },
     "metadata": {},
     "output_type": "display_data"
    },
    {
     "name": "stdout",
     "output_type": "stream",
     "text": [
      "1 frames displayed from /kaggle/input/final-year-project/project_videos/Walking/video_folder(3).mp4\n"
     ]
    },
    {
     "data": {
      "text/plain": [
       "array([[[ 25,  26,  18],\n",
       "        [ 25,  26,  18],\n",
       "        [ 25,  26,  18],\n",
       "        ...,\n",
       "        [174, 168, 143],\n",
       "        [174, 168, 143],\n",
       "        [174, 168, 143]],\n",
       "\n",
       "       [[ 25,  26,  18],\n",
       "        [ 25,  26,  18],\n",
       "        [ 25,  26,  18],\n",
       "        ...,\n",
       "        [174, 168, 143],\n",
       "        [174, 168, 143],\n",
       "        [174, 168, 143]],\n",
       "\n",
       "       [[ 25,  26,  18],\n",
       "        [ 25,  26,  18],\n",
       "        [ 25,  26,  18],\n",
       "        ...,\n",
       "        [174, 168, 143],\n",
       "        [174, 168, 143],\n",
       "        [174, 168, 143]],\n",
       "\n",
       "       ...,\n",
       "\n",
       "       [[125, 130, 129],\n",
       "        [120, 125, 124],\n",
       "        [120, 125, 124],\n",
       "        ...,\n",
       "        [255, 255, 255],\n",
       "        [255, 255, 255],\n",
       "        [255, 255, 255]],\n",
       "\n",
       "       [[128, 133, 132],\n",
       "        [125, 130, 129],\n",
       "        [125, 130, 129],\n",
       "        ...,\n",
       "        [255, 255, 255],\n",
       "        [255, 255, 255],\n",
       "        [255, 255, 255]],\n",
       "\n",
       "       [[131, 136, 135],\n",
       "        [128, 133, 132],\n",
       "        [128, 133, 132],\n",
       "        ...,\n",
       "        [255, 255, 255],\n",
       "        [255, 255, 255],\n",
       "        [255, 255, 255]]], dtype=uint8)"
      ]
     },
     "metadata": {},
     "output_type": "display_data"
    },
    {
     "name": "stdout",
     "output_type": "stream",
     "text": [
      "1 frames displayed from /kaggle/input/final-year-project/project_videos/Walking/video_folder(5).mp4\n"
     ]
    },
    {
     "data": {
      "text/plain": [
       "array([[[144, 135, 118],\n",
       "        [144, 135, 118],\n",
       "        [144, 135, 118],\n",
       "        ...,\n",
       "        [188, 184, 178],\n",
       "        [188, 184, 178],\n",
       "        [188, 184, 178]],\n",
       "\n",
       "       [[143, 134, 117],\n",
       "        [143, 134, 117],\n",
       "        [142, 133, 116],\n",
       "        ...,\n",
       "        [188, 184, 178],\n",
       "        [188, 184, 178],\n",
       "        [188, 184, 178]],\n",
       "\n",
       "       [[137, 128, 111],\n",
       "        [136, 127, 110],\n",
       "        [135, 126, 109],\n",
       "        ...,\n",
       "        [188, 184, 178],\n",
       "        [188, 184, 178],\n",
       "        [188, 184, 178]],\n",
       "\n",
       "       ...,\n",
       "\n",
       "       [[171, 164, 148],\n",
       "        [171, 164, 148],\n",
       "        [171, 164, 148],\n",
       "        ...,\n",
       "        [202, 198, 188],\n",
       "        [202, 198, 188],\n",
       "        [202, 198, 188]],\n",
       "\n",
       "       [[170, 163, 147],\n",
       "        [171, 164, 148],\n",
       "        [172, 165, 149],\n",
       "        ...,\n",
       "        [202, 198, 188],\n",
       "        [202, 198, 188],\n",
       "        [202, 198, 188]],\n",
       "\n",
       "       [[170, 163, 147],\n",
       "        [171, 164, 148],\n",
       "        [172, 165, 149],\n",
       "        ...,\n",
       "        [202, 198, 188],\n",
       "        [202, 198, 188],\n",
       "        [202, 198, 188]]], dtype=uint8)"
      ]
     },
     "metadata": {},
     "output_type": "display_data"
    },
    {
     "name": "stdout",
     "output_type": "stream",
     "text": [
      "1 frames displayed from /kaggle/input/final-year-project/project_videos/Walking/video_folder(1).mp4\n"
     ]
    },
    {
     "data": {
      "text/plain": [
       "array([[[ 81,  62,  39],\n",
       "        [ 81,  62,  39],\n",
       "        [ 82,  63,  40],\n",
       "        ...,\n",
       "        [129, 120, 114],\n",
       "        [129, 120, 114],\n",
       "        [129, 120, 114]],\n",
       "\n",
       "       [[ 83,  64,  41],\n",
       "        [ 84,  65,  42],\n",
       "        [ 84,  65,  42],\n",
       "        ...,\n",
       "        [128, 119, 113],\n",
       "        [128, 119, 113],\n",
       "        [128, 119, 113]],\n",
       "\n",
       "       [[ 83,  64,  41],\n",
       "        [ 83,  64,  41],\n",
       "        [ 84,  65,  42],\n",
       "        ...,\n",
       "        [128, 119, 113],\n",
       "        [128, 119, 113],\n",
       "        [128, 119, 113]],\n",
       "\n",
       "       ...,\n",
       "\n",
       "       [[ 77,  79,  74],\n",
       "        [ 77,  79,  74],\n",
       "        [ 76,  78,  73],\n",
       "        ...,\n",
       "        [ 56,  53,  38],\n",
       "        [ 56,  53,  38],\n",
       "        [ 56,  53,  38]],\n",
       "\n",
       "       [[ 77,  79,  74],\n",
       "        [ 77,  79,  74],\n",
       "        [ 76,  78,  73],\n",
       "        ...,\n",
       "        [ 57,  54,  39],\n",
       "        [ 57,  54,  39],\n",
       "        [ 56,  53,  38]],\n",
       "\n",
       "       [[ 77,  79,  74],\n",
       "        [ 77,  79,  74],\n",
       "        [ 77,  79,  74],\n",
       "        ...,\n",
       "        [ 57,  54,  39],\n",
       "        [ 57,  54,  39],\n",
       "        [ 57,  54,  39]]], dtype=uint8)"
      ]
     },
     "metadata": {},
     "output_type": "display_data"
    },
    {
     "name": "stdout",
     "output_type": "stream",
     "text": [
      "1 frames displayed from /kaggle/input/final-year-project/project_videos/Walking/video_folder(2).mp4\n"
     ]
    },
    {
     "data": {
      "text/plain": [
       "array([[[210, 181, 120],\n",
       "        [210, 181, 120],\n",
       "        [210, 181, 120],\n",
       "        ...,\n",
       "        [206, 203, 177],\n",
       "        [206, 203, 177],\n",
       "        [206, 203, 177]],\n",
       "\n",
       "       [[210, 181, 120],\n",
       "        [210, 181, 120],\n",
       "        [210, 181, 120],\n",
       "        ...,\n",
       "        [206, 203, 177],\n",
       "        [206, 203, 177],\n",
       "        [206, 203, 177]],\n",
       "\n",
       "       [[210, 181, 120],\n",
       "        [210, 181, 120],\n",
       "        [210, 181, 120],\n",
       "        ...,\n",
       "        [206, 203, 177],\n",
       "        [206, 203, 177],\n",
       "        [206, 203, 177]],\n",
       "\n",
       "       ...,\n",
       "\n",
       "       [[145, 145, 145],\n",
       "        [145, 145, 145],\n",
       "        [144, 144, 144],\n",
       "        ...,\n",
       "        [101,  94,  92],\n",
       "        [101,  94,  92],\n",
       "        [101,  94,  92]],\n",
       "\n",
       "       [[145, 145, 145],\n",
       "        [145, 145, 145],\n",
       "        [144, 144, 144],\n",
       "        ...,\n",
       "        [100,  93,  91],\n",
       "        [100,  93,  91],\n",
       "        [100,  93,  91]],\n",
       "\n",
       "       [[144, 144, 144],\n",
       "        [144, 144, 144],\n",
       "        [144, 144, 144],\n",
       "        ...,\n",
       "        [100,  93,  91],\n",
       "        [100,  93,  91],\n",
       "        [100,  93,  91]]], dtype=uint8)"
      ]
     },
     "metadata": {},
     "output_type": "display_data"
    },
    {
     "name": "stdout",
     "output_type": "stream",
     "text": [
      "1 frames displayed from /kaggle/input/final-year-project/project_videos/Walking/video_folder(4).mp4\n"
     ]
    },
    {
     "data": {
      "text/plain": [
       "array([[[ 36,  30,  25],\n",
       "        [ 36,  30,  25],\n",
       "        [ 35,  29,  24],\n",
       "        ...,\n",
       "        [117, 110,  81],\n",
       "        [117, 110,  81],\n",
       "        [117, 110,  81]],\n",
       "\n",
       "       [[ 36,  30,  25],\n",
       "        [ 36,  30,  25],\n",
       "        [ 35,  29,  24],\n",
       "        ...,\n",
       "        [117, 110,  81],\n",
       "        [117, 110,  81],\n",
       "        [117, 110,  81]],\n",
       "\n",
       "       [[ 36,  30,  25],\n",
       "        [ 36,  30,  25],\n",
       "        [ 35,  29,  24],\n",
       "        ...,\n",
       "        [117, 110,  81],\n",
       "        [117, 110,  81],\n",
       "        [116, 109,  80]],\n",
       "\n",
       "       ...,\n",
       "\n",
       "       [[105, 105, 102],\n",
       "        [108, 108, 105],\n",
       "        [111, 111, 108],\n",
       "        ...,\n",
       "        [ 77,  75,  73],\n",
       "        [ 82,  80,  78],\n",
       "        [ 77,  75,  73]],\n",
       "\n",
       "       [[105, 105, 102],\n",
       "        [107, 107, 104],\n",
       "        [109, 109, 106],\n",
       "        ...,\n",
       "        [ 76,  74,  72],\n",
       "        [ 82,  80,  78],\n",
       "        [ 77,  75,  73]],\n",
       "\n",
       "       [[109, 109, 106],\n",
       "        [108, 108, 105],\n",
       "        [108, 108, 105],\n",
       "        ...,\n",
       "        [ 75,  73,  71],\n",
       "        [ 82,  80,  78],\n",
       "        [ 76,  74,  72]]], dtype=uint8)"
      ]
     },
     "metadata": {},
     "output_type": "display_data"
    },
    {
     "name": "stdout",
     "output_type": "stream",
     "text": [
      "1 frames displayed from /kaggle/input/final-year-project/project_videos/Walking/video_folder.mp4\n"
     ]
    },
    {
     "data": {
      "text/plain": [
       "array([[[211, 211, 181],\n",
       "        [214, 214, 184],\n",
       "        [218, 218, 188],\n",
       "        ...,\n",
       "        [182, 186, 157],\n",
       "        [182, 186, 157],\n",
       "        [182, 186, 157]],\n",
       "\n",
       "       [[206, 206, 176],\n",
       "        [210, 210, 180],\n",
       "        [214, 214, 184],\n",
       "        ...,\n",
       "        [182, 186, 157],\n",
       "        [182, 186, 157],\n",
       "        [182, 186, 157]],\n",
       "\n",
       "       [[210, 203, 183],\n",
       "        [214, 207, 187],\n",
       "        [216, 209, 189],\n",
       "        ...,\n",
       "        [182, 186, 157],\n",
       "        [182, 186, 157],\n",
       "        [182, 186, 157]],\n",
       "\n",
       "       ...,\n",
       "\n",
       "       [[138, 138, 135],\n",
       "        [138, 138, 135],\n",
       "        [139, 139, 136],\n",
       "        ...,\n",
       "        [ 78,  71,  51],\n",
       "        [ 78,  71,  51],\n",
       "        [ 78,  71,  51]],\n",
       "\n",
       "       [[136, 136, 133],\n",
       "        [138, 138, 135],\n",
       "        [137, 137, 134],\n",
       "        ...,\n",
       "        [ 78,  71,  51],\n",
       "        [ 78,  71,  51],\n",
       "        [ 78,  71,  51]],\n",
       "\n",
       "       [[135, 135, 132],\n",
       "        [138, 138, 135],\n",
       "        [135, 135, 132],\n",
       "        ...,\n",
       "        [ 78,  71,  51],\n",
       "        [ 78,  71,  51],\n",
       "        [ 78,  71,  51]]], dtype=uint8)"
      ]
     },
     "metadata": {},
     "output_type": "display_data"
    },
    {
     "name": "stdout",
     "output_type": "stream",
     "text": [
      "1 frames displayed from /kaggle/input/final-year-project/project_videos/Walking/video_folder(7).mp4\n"
     ]
    },
    {
     "data": {
      "text/plain": [
       "array([[[ 79,  57,  39],\n",
       "        [ 79,  57,  39],\n",
       "        [ 79,  57,  39],\n",
       "        ...,\n",
       "        [207, 180,  96],\n",
       "        [207, 180,  96],\n",
       "        [207, 180,  96]],\n",
       "\n",
       "       [[ 79,  57,  39],\n",
       "        [ 79,  57,  39],\n",
       "        [ 79,  57,  39],\n",
       "        ...,\n",
       "        [207, 180,  96],\n",
       "        [207, 180,  96],\n",
       "        [207, 180,  96]],\n",
       "\n",
       "       [[ 79,  57,  39],\n",
       "        [ 79,  57,  39],\n",
       "        [ 79,  57,  39],\n",
       "        ...,\n",
       "        [207, 180,  96],\n",
       "        [207, 180,  96],\n",
       "        [207, 180,  96]],\n",
       "\n",
       "       ...,\n",
       "\n",
       "       [[143, 143, 140],\n",
       "        [139, 139, 136],\n",
       "        [142, 142, 139],\n",
       "        ...,\n",
       "        [119, 105,  91],\n",
       "        [119, 105,  91],\n",
       "        [119, 105,  91]],\n",
       "\n",
       "       [[142, 142, 139],\n",
       "        [139, 139, 136],\n",
       "        [137, 137, 134],\n",
       "        ...,\n",
       "        [119, 105,  91],\n",
       "        [119, 105,  91],\n",
       "        [119, 105,  91]],\n",
       "\n",
       "       [[140, 140, 137],\n",
       "        [138, 138, 135],\n",
       "        [136, 136, 133],\n",
       "        ...,\n",
       "        [119, 105,  91],\n",
       "        [119, 105,  91],\n",
       "        [119, 105,  91]]], dtype=uint8)"
      ]
     },
     "metadata": {},
     "output_type": "display_data"
    },
    {
     "name": "stdout",
     "output_type": "stream",
     "text": [
      "1 frames displayed from /kaggle/input/final-year-project/project_videos/Walking/video_folder(6).mp4\n"
     ]
    },
    {
     "data": {
      "text/plain": [
       "array([[[253, 253, 250],\n",
       "        [253, 253, 250],\n",
       "        [253, 253, 250],\n",
       "        ...,\n",
       "        [255, 255, 252],\n",
       "        [255, 255, 252],\n",
       "        [255, 255, 252]],\n",
       "\n",
       "       [[253, 253, 250],\n",
       "        [253, 253, 250],\n",
       "        [253, 253, 250],\n",
       "        ...,\n",
       "        [255, 255, 252],\n",
       "        [255, 255, 252],\n",
       "        [255, 255, 252]],\n",
       "\n",
       "       [[253, 253, 250],\n",
       "        [253, 253, 250],\n",
       "        [253, 253, 250],\n",
       "        ...,\n",
       "        [255, 255, 252],\n",
       "        [255, 255, 252],\n",
       "        [255, 255, 252]],\n",
       "\n",
       "       ...,\n",
       "\n",
       "       [[183, 159, 122],\n",
       "        [184, 160, 123],\n",
       "        [186, 162, 125],\n",
       "        ...,\n",
       "        [155, 157, 152],\n",
       "        [155, 157, 152],\n",
       "        [155, 157, 152]],\n",
       "\n",
       "       [[187, 163, 126],\n",
       "        [188, 164, 127],\n",
       "        [191, 167, 130],\n",
       "        ...,\n",
       "        [155, 157, 152],\n",
       "        [155, 157, 152],\n",
       "        [155, 157, 152]],\n",
       "\n",
       "       [[190, 166, 129],\n",
       "        [191, 167, 130],\n",
       "        [193, 169, 132],\n",
       "        ...,\n",
       "        [155, 157, 152],\n",
       "        [155, 157, 152],\n",
       "        [155, 157, 152]]], dtype=uint8)"
      ]
     },
     "metadata": {},
     "output_type": "display_data"
    },
    {
     "name": "stdout",
     "output_type": "stream",
     "text": [
      "1 frames displayed from /kaggle/input/final-year-project/project_videos/Running/video_folder(1).mp4\n"
     ]
    },
    {
     "data": {
      "text/plain": [
       "array([[[0, 0, 0],\n",
       "        [0, 0, 0],\n",
       "        [0, 0, 0],\n",
       "        ...,\n",
       "        [0, 0, 0],\n",
       "        [0, 0, 0],\n",
       "        [0, 0, 0]],\n",
       "\n",
       "       [[0, 0, 0],\n",
       "        [0, 0, 0],\n",
       "        [0, 0, 0],\n",
       "        ...,\n",
       "        [0, 0, 0],\n",
       "        [0, 0, 0],\n",
       "        [0, 0, 0]],\n",
       "\n",
       "       [[0, 0, 0],\n",
       "        [0, 0, 0],\n",
       "        [0, 0, 0],\n",
       "        ...,\n",
       "        [0, 0, 0],\n",
       "        [0, 0, 0],\n",
       "        [0, 0, 0]],\n",
       "\n",
       "       ...,\n",
       "\n",
       "       [[0, 0, 0],\n",
       "        [0, 0, 0],\n",
       "        [0, 0, 0],\n",
       "        ...,\n",
       "        [0, 0, 0],\n",
       "        [0, 0, 0],\n",
       "        [0, 0, 0]],\n",
       "\n",
       "       [[0, 0, 0],\n",
       "        [0, 0, 0],\n",
       "        [0, 0, 0],\n",
       "        ...,\n",
       "        [0, 0, 0],\n",
       "        [0, 0, 0],\n",
       "        [0, 0, 0]],\n",
       "\n",
       "       [[0, 0, 0],\n",
       "        [0, 0, 0],\n",
       "        [0, 0, 0],\n",
       "        ...,\n",
       "        [0, 0, 0],\n",
       "        [0, 0, 0],\n",
       "        [0, 0, 0]]], dtype=uint8)"
      ]
     },
     "metadata": {},
     "output_type": "display_data"
    },
    {
     "name": "stdout",
     "output_type": "stream",
     "text": [
      "1 frames displayed from /kaggle/input/final-year-project/project_videos/Running/video_folder.mp4\n"
     ]
    },
    {
     "data": {
      "text/plain": [
       "array([[[78, 78, 78],\n",
       "        [79, 79, 79],\n",
       "        [79, 79, 79],\n",
       "        ...,\n",
       "        [ 1,  1,  1],\n",
       "        [ 1,  1,  1],\n",
       "        [ 1,  1,  1]],\n",
       "\n",
       "       [[78, 78, 78],\n",
       "        [79, 79, 79],\n",
       "        [79, 79, 79],\n",
       "        ...,\n",
       "        [ 1,  1,  1],\n",
       "        [ 1,  1,  1],\n",
       "        [ 1,  1,  1]],\n",
       "\n",
       "       [[78, 78, 78],\n",
       "        [79, 79, 79],\n",
       "        [79, 79, 79],\n",
       "        ...,\n",
       "        [ 1,  1,  1],\n",
       "        [ 1,  1,  1],\n",
       "        [ 1,  1,  1]],\n",
       "\n",
       "       ...,\n",
       "\n",
       "       [[48, 48, 45],\n",
       "        [48, 48, 45],\n",
       "        [48, 48, 45],\n",
       "        ...,\n",
       "        [13, 12,  5],\n",
       "        [13, 12,  5],\n",
       "        [13, 12,  5]],\n",
       "\n",
       "       [[47, 47, 44],\n",
       "        [47, 47, 44],\n",
       "        [47, 47, 44],\n",
       "        ...,\n",
       "        [13, 12,  5],\n",
       "        [13, 12,  5],\n",
       "        [13, 12,  5]],\n",
       "\n",
       "       [[46, 46, 43],\n",
       "        [47, 47, 44],\n",
       "        [47, 47, 44],\n",
       "        ...,\n",
       "        [13, 12,  5],\n",
       "        [13, 12,  5],\n",
       "        [13, 12,  5]]], dtype=uint8)"
      ]
     },
     "metadata": {},
     "output_type": "display_data"
    },
    {
     "name": "stdout",
     "output_type": "stream",
     "text": [
      "1 frames displayed from /kaggle/input/final-year-project/project_videos/Downstairs/video_folder(3).mp4\n"
     ]
    },
    {
     "data": {
      "text/plain": [
       "array([[[253, 254, 244],\n",
       "        [253, 254, 244],\n",
       "        [253, 254, 244],\n",
       "        ...,\n",
       "        [253, 253, 253],\n",
       "        [253, 253, 253],\n",
       "        [253, 253, 253]],\n",
       "\n",
       "       [[253, 254, 244],\n",
       "        [253, 254, 244],\n",
       "        [253, 254, 244],\n",
       "        ...,\n",
       "        [255, 255, 255],\n",
       "        [255, 255, 255],\n",
       "        [255, 255, 255]],\n",
       "\n",
       "       [[253, 254, 244],\n",
       "        [253, 254, 244],\n",
       "        [253, 254, 244],\n",
       "        ...,\n",
       "        [255, 255, 255],\n",
       "        [255, 255, 255],\n",
       "        [255, 255, 255]],\n",
       "\n",
       "       ...,\n",
       "\n",
       "       [[150, 173, 207],\n",
       "        [147, 170, 204],\n",
       "        [151, 174, 208],\n",
       "        ...,\n",
       "        [ 42,  44,  39],\n",
       "        [ 42,  45,  37],\n",
       "        [ 43,  46,  38]],\n",
       "\n",
       "       [[150, 173, 207],\n",
       "        [145, 168, 202],\n",
       "        [149, 172, 206],\n",
       "        ...,\n",
       "        [ 42,  44,  39],\n",
       "        [ 42,  45,  37],\n",
       "        [ 43,  46,  38]],\n",
       "\n",
       "       [[154, 177, 211],\n",
       "        [149, 172, 206],\n",
       "        [153, 176, 210],\n",
       "        ...,\n",
       "        [ 42,  44,  39],\n",
       "        [ 42,  45,  37],\n",
       "        [ 43,  46,  38]]], dtype=uint8)"
      ]
     },
     "metadata": {},
     "output_type": "display_data"
    },
    {
     "name": "stdout",
     "output_type": "stream",
     "text": [
      "1 frames displayed from /kaggle/input/final-year-project/project_videos/Downstairs/video_folder(1).mp4\n"
     ]
    },
    {
     "data": {
      "text/plain": [
       "array([[[242, 255, 252],\n",
       "        [242, 255, 252],\n",
       "        [242, 255, 252],\n",
       "        ...,\n",
       "        [ 74,  63,  48],\n",
       "        [ 74,  63,  48],\n",
       "        [ 74,  63,  48]],\n",
       "\n",
       "       [[242, 255, 252],\n",
       "        [242, 255, 252],\n",
       "        [242, 255, 252],\n",
       "        ...,\n",
       "        [ 74,  63,  48],\n",
       "        [ 74,  63,  48],\n",
       "        [ 74,  63,  48]],\n",
       "\n",
       "       [[242, 255, 252],\n",
       "        [242, 255, 252],\n",
       "        [242, 255, 252],\n",
       "        ...,\n",
       "        [ 74,  63,  48],\n",
       "        [ 74,  63,  48],\n",
       "        [ 74,  63,  48]],\n",
       "\n",
       "       ...,\n",
       "\n",
       "       [[ 83,  22,  17],\n",
       "        [ 82,  21,  16],\n",
       "        [ 86,  18,  14],\n",
       "        ...,\n",
       "        [ 27,  15,  15],\n",
       "        [ 29,  19,  20],\n",
       "        [ 31,  21,  22]],\n",
       "\n",
       "       [[ 88,  17,  14],\n",
       "        [ 87,  16,  13],\n",
       "        [ 85,  17,  13],\n",
       "        ...,\n",
       "        [ 28,  12,   8],\n",
       "        [ 29,  13,   9],\n",
       "        [ 31,  15,  11]],\n",
       "\n",
       "       [[ 87,  16,  13],\n",
       "        [ 87,  16,  13],\n",
       "        [ 85,  17,  13],\n",
       "        ...,\n",
       "        [ 26,  10,   6],\n",
       "        [ 24,   8,   4],\n",
       "        [ 26,  10,   6]]], dtype=uint8)"
      ]
     },
     "metadata": {},
     "output_type": "display_data"
    },
    {
     "name": "stdout",
     "output_type": "stream",
     "text": [
      "1 frames displayed from /kaggle/input/final-year-project/project_videos/Downstairs/video_folder(2).mp4\n"
     ]
    },
    {
     "data": {
      "text/plain": [
       "array([[[101,  88,  65],\n",
       "        [101,  88,  65],\n",
       "        [102,  89,  66],\n",
       "        ...,\n",
       "        [210, 216, 233],\n",
       "        [211, 217, 234],\n",
       "        [211, 217, 234]],\n",
       "\n",
       "       [[101,  88,  65],\n",
       "        [101,  88,  65],\n",
       "        [102,  89,  66],\n",
       "        ...,\n",
       "        [210, 216, 233],\n",
       "        [211, 217, 234],\n",
       "        [211, 217, 234]],\n",
       "\n",
       "       [[101,  88,  65],\n",
       "        [101,  88,  65],\n",
       "        [102,  89,  66],\n",
       "        ...,\n",
       "        [210, 216, 233],\n",
       "        [210, 216, 233],\n",
       "        [211, 217, 234]],\n",
       "\n",
       "       ...,\n",
       "\n",
       "       [[ 10,   8,   4],\n",
       "        [ 10,   8,   4],\n",
       "        [ 10,   8,   4],\n",
       "        ...,\n",
       "        [ 98,  89,  72],\n",
       "        [ 98,  89,  72],\n",
       "        [ 98,  89,  72]],\n",
       "\n",
       "       [[ 10,   8,   4],\n",
       "        [ 10,   8,   4],\n",
       "        [ 10,   8,   4],\n",
       "        ...,\n",
       "        [ 97,  88,  71],\n",
       "        [ 97,  88,  71],\n",
       "        [ 97,  88,  71]],\n",
       "\n",
       "       [[ 10,   8,   4],\n",
       "        [ 10,   8,   4],\n",
       "        [ 10,   8,   4],\n",
       "        ...,\n",
       "        [ 97,  88,  71],\n",
       "        [ 97,  88,  71],\n",
       "        [ 97,  88,  71]]], dtype=uint8)"
      ]
     },
     "metadata": {},
     "output_type": "display_data"
    },
    {
     "name": "stdout",
     "output_type": "stream",
     "text": [
      "1 frames displayed from /kaggle/input/final-year-project/project_videos/Downstairs/video_folder.mp4\n"
     ]
    },
    {
     "data": {
      "text/plain": [
       "array([[[182, 188, 189],\n",
       "        [182, 188, 189],\n",
       "        [182, 188, 189],\n",
       "        ...,\n",
       "        [192, 185, 185],\n",
       "        [192, 185, 185],\n",
       "        [192, 185, 185]],\n",
       "\n",
       "       [[182, 188, 189],\n",
       "        [182, 188, 189],\n",
       "        [182, 188, 189],\n",
       "        ...,\n",
       "        [192, 185, 185],\n",
       "        [192, 185, 185],\n",
       "        [192, 185, 185]],\n",
       "\n",
       "       [[182, 188, 189],\n",
       "        [182, 188, 189],\n",
       "        [182, 188, 189],\n",
       "        ...,\n",
       "        [192, 185, 185],\n",
       "        [192, 185, 185],\n",
       "        [192, 185, 185]],\n",
       "\n",
       "       ...,\n",
       "\n",
       "       [[196, 207, 208],\n",
       "        [196, 207, 208],\n",
       "        [199, 210, 211],\n",
       "        ...,\n",
       "        [209, 218, 220],\n",
       "        [202, 211, 213],\n",
       "        [210, 219, 221]],\n",
       "\n",
       "       [[199, 210, 211],\n",
       "        [199, 210, 211],\n",
       "        [200, 211, 212],\n",
       "        ...,\n",
       "        [214, 223, 225],\n",
       "        [203, 212, 214],\n",
       "        [203, 212, 214]],\n",
       "\n",
       "       [[200, 211, 212],\n",
       "        [200, 211, 212],\n",
       "        [201, 212, 213],\n",
       "        ...,\n",
       "        [215, 224, 226],\n",
       "        [210, 219, 221],\n",
       "        [203, 212, 214]]], dtype=uint8)"
      ]
     },
     "metadata": {},
     "output_type": "display_data"
    },
    {
     "name": "stdout",
     "output_type": "stream",
     "text": [
      "1 frames displayed from /kaggle/input/final-year-project/project_videos/Standing/video_folder(1).mp4\n"
     ]
    },
    {
     "data": {
      "text/plain": [
       "array([[[196, 202, 203],\n",
       "        [196, 202, 203],\n",
       "        [196, 202, 203],\n",
       "        ...,\n",
       "        [186, 181, 180],\n",
       "        [186, 181, 180],\n",
       "        [186, 181, 180]],\n",
       "\n",
       "       [[196, 202, 203],\n",
       "        [196, 202, 203],\n",
       "        [196, 202, 203],\n",
       "        ...,\n",
       "        [186, 181, 180],\n",
       "        [186, 181, 180],\n",
       "        [186, 181, 180]],\n",
       "\n",
       "       [[196, 202, 203],\n",
       "        [196, 202, 203],\n",
       "        [196, 202, 203],\n",
       "        ...,\n",
       "        [186, 181, 180],\n",
       "        [186, 181, 180],\n",
       "        [186, 181, 180]],\n",
       "\n",
       "       ...,\n",
       "\n",
       "       [[198, 214, 212],\n",
       "        [199, 215, 213],\n",
       "        [201, 217, 215],\n",
       "        ...,\n",
       "        [205, 218, 217],\n",
       "        [203, 216, 215],\n",
       "        [197, 210, 209]],\n",
       "\n",
       "       [[198, 214, 212],\n",
       "        [199, 215, 213],\n",
       "        [202, 218, 216],\n",
       "        ...,\n",
       "        [198, 211, 210],\n",
       "        [200, 213, 212],\n",
       "        [197, 210, 209]],\n",
       "\n",
       "       [[198, 214, 212],\n",
       "        [199, 215, 213],\n",
       "        [203, 219, 217],\n",
       "        ...,\n",
       "        [191, 204, 203],\n",
       "        [196, 209, 208],\n",
       "        [198, 211, 210]]], dtype=uint8)"
      ]
     },
     "metadata": {},
     "output_type": "display_data"
    },
    {
     "name": "stdout",
     "output_type": "stream",
     "text": [
      "1 frames displayed from /kaggle/input/final-year-project/project_videos/Standing/video_folder(2).mp4\n"
     ]
    },
    {
     "data": {
      "text/plain": [
       "array([[[200, 201, 191],\n",
       "        [196, 197, 187],\n",
       "        [194, 195, 185],\n",
       "        ...,\n",
       "        [180, 166, 171],\n",
       "        [186, 177, 173],\n",
       "        [179, 170, 166]],\n",
       "\n",
       "       [[200, 201, 191],\n",
       "        [197, 198, 188],\n",
       "        [194, 195, 185],\n",
       "        ...,\n",
       "        [187, 173, 178],\n",
       "        [191, 182, 178],\n",
       "        [182, 173, 169]],\n",
       "\n",
       "       [[200, 201, 191],\n",
       "        [197, 198, 188],\n",
       "        [195, 196, 186],\n",
       "        ...,\n",
       "        [192, 175, 176],\n",
       "        [193, 182, 179],\n",
       "        [187, 176, 173]],\n",
       "\n",
       "       ...,\n",
       "\n",
       "       [[132, 137, 136],\n",
       "        [131, 136, 135],\n",
       "        [131, 136, 135],\n",
       "        ...,\n",
       "        [115, 106,  91],\n",
       "        [115, 106,  91],\n",
       "        [115, 106,  91]],\n",
       "\n",
       "       [[132, 137, 136],\n",
       "        [131, 136, 135],\n",
       "        [131, 136, 135],\n",
       "        ...,\n",
       "        [115, 106,  91],\n",
       "        [115, 106,  91],\n",
       "        [115, 106,  91]],\n",
       "\n",
       "       [[132, 137, 136],\n",
       "        [131, 136, 135],\n",
       "        [131, 136, 135],\n",
       "        ...,\n",
       "        [115, 106,  91],\n",
       "        [115, 106,  91],\n",
       "        [115, 106,  91]]], dtype=uint8)"
      ]
     },
     "metadata": {},
     "output_type": "display_data"
    },
    {
     "name": "stdout",
     "output_type": "stream",
     "text": [
      "1 frames displayed from /kaggle/input/final-year-project/project_videos/Standing/video_folder.mp4\n"
     ]
    },
    {
     "data": {
      "text/plain": [
       "array([[[ 0,  0,  0],\n",
       "        [ 0,  0,  0],\n",
       "        [ 0,  0,  0],\n",
       "        ...,\n",
       "        [42, 37,  5],\n",
       "        [42, 37,  5],\n",
       "        [42, 37,  5]],\n",
       "\n",
       "       [[ 0,  0,  0],\n",
       "        [ 0,  0,  0],\n",
       "        [ 0,  0,  0],\n",
       "        ...,\n",
       "        [40, 35,  3],\n",
       "        [40, 35,  3],\n",
       "        [40, 35,  3]],\n",
       "\n",
       "       [[ 0,  0,  0],\n",
       "        [ 0,  0,  0],\n",
       "        [ 0,  0,  0],\n",
       "        ...,\n",
       "        [39, 34,  2],\n",
       "        [39, 34,  2],\n",
       "        [39, 34,  2]],\n",
       "\n",
       "       ...,\n",
       "\n",
       "       [[76, 78, 75],\n",
       "        [74, 76, 73],\n",
       "        [74, 76, 73],\n",
       "        ...,\n",
       "        [70, 72, 67],\n",
       "        [70, 72, 67],\n",
       "        [70, 72, 67]],\n",
       "\n",
       "       [[72, 74, 71],\n",
       "        [71, 73, 70],\n",
       "        [72, 74, 71],\n",
       "        ...,\n",
       "        [70, 72, 67],\n",
       "        [70, 72, 67],\n",
       "        [70, 72, 67]],\n",
       "\n",
       "       [[70, 72, 69],\n",
       "        [70, 72, 69],\n",
       "        [71, 73, 70],\n",
       "        ...,\n",
       "        [70, 72, 67],\n",
       "        [70, 72, 67],\n",
       "        [70, 72, 67]]], dtype=uint8)"
      ]
     },
     "metadata": {},
     "output_type": "display_data"
    },
    {
     "name": "stdout",
     "output_type": "stream",
     "text": [
      "1 frames displayed from /kaggle/input/final-year-project/project_videos/upstairs/video_folder(1).mp4\n"
     ]
    },
    {
     "data": {
      "text/plain": [
       "array([[[ 32,  32,  29],\n",
       "        [ 33,  33,  30],\n",
       "        [ 36,  36,  33],\n",
       "        ...,\n",
       "        [192, 199, 197],\n",
       "        [192, 199, 197],\n",
       "        [192, 199, 197]],\n",
       "\n",
       "       [[ 31,  31,  28],\n",
       "        [ 33,  33,  30],\n",
       "        [ 36,  36,  33],\n",
       "        ...,\n",
       "        [192, 199, 197],\n",
       "        [192, 199, 197],\n",
       "        [192, 199, 197]],\n",
       "\n",
       "       [[ 33,  33,  30],\n",
       "        [ 34,  34,  31],\n",
       "        [ 36,  36,  33],\n",
       "        ...,\n",
       "        [192, 199, 197],\n",
       "        [192, 199, 197],\n",
       "        [192, 199, 197]],\n",
       "\n",
       "       ...,\n",
       "\n",
       "       [[ 92,  29,  25],\n",
       "        [ 92,  29,  25],\n",
       "        [ 92,  29,  25],\n",
       "        ...,\n",
       "        [100,  38,  40],\n",
       "        [100,  38,  40],\n",
       "        [100,  38,  40]],\n",
       "\n",
       "       [[ 92,  29,  25],\n",
       "        [ 92,  29,  25],\n",
       "        [ 92,  29,  25],\n",
       "        ...,\n",
       "        [100,  38,  40],\n",
       "        [100,  38,  40],\n",
       "        [100,  38,  40]],\n",
       "\n",
       "       [[ 92,  29,  25],\n",
       "        [ 92,  29,  25],\n",
       "        [ 92,  29,  25],\n",
       "        ...,\n",
       "        [100,  38,  40],\n",
       "        [100,  38,  40],\n",
       "        [100,  38,  40]]], dtype=uint8)"
      ]
     },
     "metadata": {},
     "output_type": "display_data"
    },
    {
     "name": "stdout",
     "output_type": "stream",
     "text": [
      "1 frames displayed from /kaggle/input/final-year-project/project_videos/upstairs/video_folder(2).mp4\n"
     ]
    },
    {
     "data": {
      "text/plain": [
       "array([[[120, 113, 113],\n",
       "        [120, 113, 113],\n",
       "        [120, 113, 113],\n",
       "        ...,\n",
       "        [118, 111,  91],\n",
       "        [118, 111,  91],\n",
       "        [118, 111,  91]],\n",
       "\n",
       "       [[120, 113, 113],\n",
       "        [120, 113, 113],\n",
       "        [120, 113, 113],\n",
       "        ...,\n",
       "        [118, 111,  91],\n",
       "        [118, 111,  91],\n",
       "        [118, 111,  91]],\n",
       "\n",
       "       [[121, 114, 114],\n",
       "        [121, 114, 114],\n",
       "        [121, 114, 114],\n",
       "        ...,\n",
       "        [120, 113,  93],\n",
       "        [120, 113,  93],\n",
       "        [118, 111,  91]],\n",
       "\n",
       "       ...,\n",
       "\n",
       "       [[ 62,  58,  48],\n",
       "        [ 57,  53,  43],\n",
       "        [ 53,  49,  39],\n",
       "        ...,\n",
       "        [153, 149, 130],\n",
       "        [151, 147, 128],\n",
       "        [151, 147, 128]],\n",
       "\n",
       "       [[ 67,  63,  53],\n",
       "        [ 62,  58,  48],\n",
       "        [ 58,  54,  44],\n",
       "        ...,\n",
       "        [151, 147, 128],\n",
       "        [150, 146, 127],\n",
       "        [150, 146, 127]],\n",
       "\n",
       "       [[ 67,  63,  53],\n",
       "        [ 64,  60,  50],\n",
       "        [ 64,  60,  50],\n",
       "        ...,\n",
       "        [153, 149, 130],\n",
       "        [151, 147, 128],\n",
       "        [151, 147, 128]]], dtype=uint8)"
      ]
     },
     "metadata": {},
     "output_type": "display_data"
    },
    {
     "name": "stdout",
     "output_type": "stream",
     "text": [
      "1 frames displayed from /kaggle/input/final-year-project/project_videos/upstairs/video_folder.mp4\n"
     ]
    },
    {
     "data": {
      "text/plain": [
       "array([[[230, 225, 224],\n",
       "        [230, 225, 224],\n",
       "        [230, 225, 224],\n",
       "        ...,\n",
       "        [254, 250, 244],\n",
       "        [254, 250, 244],\n",
       "        [254, 250, 244]],\n",
       "\n",
       "       [[230, 225, 224],\n",
       "        [230, 225, 224],\n",
       "        [230, 225, 224],\n",
       "        ...,\n",
       "        [254, 250, 244],\n",
       "        [254, 250, 244],\n",
       "        [254, 250, 244]],\n",
       "\n",
       "       [[230, 225, 224],\n",
       "        [230, 225, 224],\n",
       "        [230, 225, 224],\n",
       "        ...,\n",
       "        [254, 250, 244],\n",
       "        [254, 250, 244],\n",
       "        [254, 250, 244]],\n",
       "\n",
       "       ...,\n",
       "\n",
       "       [[ 56,  54,  50],\n",
       "        [ 56,  54,  50],\n",
       "        [ 56,  54,  50],\n",
       "        ...,\n",
       "        [118,  99,  83],\n",
       "        [118,  99,  83],\n",
       "        [118,  99,  83]],\n",
       "\n",
       "       [[ 56,  54,  50],\n",
       "        [ 56,  54,  50],\n",
       "        [ 56,  54,  50],\n",
       "        ...,\n",
       "        [118,  99,  83],\n",
       "        [118,  99,  83],\n",
       "        [118,  99,  83]],\n",
       "\n",
       "       [[ 56,  54,  50],\n",
       "        [ 56,  54,  50],\n",
       "        [ 56,  54,  50],\n",
       "        ...,\n",
       "        [118,  99,  83],\n",
       "        [118,  99,  83],\n",
       "        [118,  99,  83]]], dtype=uint8)"
      ]
     },
     "metadata": {},
     "output_type": "display_data"
    },
    {
     "name": "stdout",
     "output_type": "stream",
     "text": [
      "1 frames displayed from /kaggle/input/final-year-project/project_videos/Jogging/video_folder(1).mp4\n"
     ]
    },
    {
     "data": {
      "text/plain": [
       "array([[[209, 209, 209],\n",
       "        [209, 209, 209],\n",
       "        [209, 209, 209],\n",
       "        ...,\n",
       "        [237, 232, 229],\n",
       "        [237, 232, 229],\n",
       "        [237, 232, 229]],\n",
       "\n",
       "       [[209, 209, 209],\n",
       "        [209, 209, 209],\n",
       "        [209, 209, 209],\n",
       "        ...,\n",
       "        [237, 232, 229],\n",
       "        [237, 232, 229],\n",
       "        [237, 232, 229]],\n",
       "\n",
       "       [[209, 209, 209],\n",
       "        [209, 209, 209],\n",
       "        [209, 209, 209],\n",
       "        ...,\n",
       "        [237, 232, 229],\n",
       "        [237, 232, 229],\n",
       "        [237, 232, 229]],\n",
       "\n",
       "       ...,\n",
       "\n",
       "       [[ 53,  49,  43],\n",
       "        [ 53,  49,  43],\n",
       "        [ 53,  49,  43],\n",
       "        ...,\n",
       "        [115,  99,  82],\n",
       "        [120, 104,  87],\n",
       "        [121, 105,  88]],\n",
       "\n",
       "       [[ 53,  49,  43],\n",
       "        [ 53,  49,  43],\n",
       "        [ 53,  49,  43],\n",
       "        ...,\n",
       "        [112,  96,  79],\n",
       "        [115,  99,  82],\n",
       "        [120, 104,  87]],\n",
       "\n",
       "       [[ 53,  49,  43],\n",
       "        [ 53,  49,  43],\n",
       "        [ 53,  49,  43],\n",
       "        ...,\n",
       "        [109,  93,  76],\n",
       "        [112,  96,  79],\n",
       "        [115,  99,  82]]], dtype=uint8)"
      ]
     },
     "metadata": {},
     "output_type": "display_data"
    },
    {
     "name": "stdout",
     "output_type": "stream",
     "text": [
      "1 frames displayed from /kaggle/input/final-year-project/project_videos/Jogging/video_folder(2).mp4\n"
     ]
    },
    {
     "data": {
      "text/plain": [
       "array([[[180, 184, 199],\n",
       "        [180, 184, 199],\n",
       "        [180, 184, 199],\n",
       "        ...,\n",
       "        [210, 217, 231],\n",
       "        [210, 217, 231],\n",
       "        [210, 217, 231]],\n",
       "\n",
       "       [[180, 184, 199],\n",
       "        [180, 184, 199],\n",
       "        [180, 184, 199],\n",
       "        ...,\n",
       "        [210, 217, 231],\n",
       "        [210, 217, 231],\n",
       "        [210, 217, 231]],\n",
       "\n",
       "       [[180, 184, 199],\n",
       "        [180, 184, 199],\n",
       "        [180, 184, 199],\n",
       "        ...,\n",
       "        [210, 217, 231],\n",
       "        [210, 217, 231],\n",
       "        [210, 217, 231]],\n",
       "\n",
       "       ...,\n",
       "\n",
       "       [[142, 132, 122],\n",
       "        [142, 132, 122],\n",
       "        [142, 132, 122],\n",
       "        ...,\n",
       "        [155, 142, 137],\n",
       "        [155, 142, 137],\n",
       "        [155, 142, 137]],\n",
       "\n",
       "       [[142, 132, 122],\n",
       "        [142, 132, 122],\n",
       "        [142, 132, 122],\n",
       "        ...,\n",
       "        [155, 142, 137],\n",
       "        [155, 142, 137],\n",
       "        [155, 142, 137]],\n",
       "\n",
       "       [[142, 132, 122],\n",
       "        [142, 132, 122],\n",
       "        [142, 132, 122],\n",
       "        ...,\n",
       "        [155, 142, 137],\n",
       "        [155, 142, 137],\n",
       "        [155, 142, 137]]], dtype=uint8)"
      ]
     },
     "metadata": {},
     "output_type": "display_data"
    },
    {
     "name": "stdout",
     "output_type": "stream",
     "text": [
      "1 frames displayed from /kaggle/input/final-year-project/project_videos/Jogging/video_folder.mp4\n"
     ]
    }
   ],
   "source": [
    "from IPython.display import display, HTML\n",
    "import cv2\n",
    "import os\n",
    "\n",
    "# Define the input folder containing the video files and subfolders\n",
    "input_folder = '/kaggle/input/final-year-project/project_videos'\n",
    "\n",
    "# List all video files in the input folder and its subfolders\n",
    "video_files = [os.path.join(root, f) for root, dirs, files in os.walk(input_folder) for f in files if f.endswith('.mp4')]\n",
    "\n",
    "for video_file in video_files:\n",
    "    video_path = os.path.join(input_folder, video_file)\n",
    "    video_capture = cv2.VideoCapture(video_path)\n",
    "\n",
    "    if not video_capture.isOpened():\n",
    "        print(f\"Error: Could not open video file {video_file}\")\n",
    "        continue\n",
    "\n",
    "    frame_count = 0\n",
    "    max_frames_to_display = 1  # Adjust this value to display more or fewer frames\n",
    "\n",
    "    while True:\n",
    "        ret, frame = video_capture.read()\n",
    "\n",
    "        if not ret or frame_count >= max_frames_to_display:\n",
    "            break\n",
    "\n",
    "        # Convert the frame to RGB format\n",
    "        frame_rgb = cv2.cvtColor(frame, cv2.COLOR_BGR2RGB)\n",
    "\n",
    "        # Display the frame in the notebook\n",
    "        display(frame_rgb)\n",
    "\n",
    "        frame_count += 1\n",
    "\n",
    "    video_capture.release()\n",
    "\n",
    "    print(f\"{frame_count} frames displayed from {video_file}\")\n"
   ]
  },
  {
   "cell_type": "code",
   "execution_count": 4,
   "id": "b0896312",
   "metadata": {
    "execution": {
     "iopub.execute_input": "2023-12-06T16:00:44.650867Z",
     "iopub.status.busy": "2023-12-06T16:00:44.650582Z",
     "iopub.status.idle": "2023-12-06T16:01:00.403041Z",
     "shell.execute_reply": "2023-12-06T16:01:00.402140Z"
    },
    "papermill": {
     "duration": 15.776743,
     "end_time": "2023-12-06T16:01:00.405431",
     "exception": false,
     "start_time": "2023-12-06T16:00:44.628688",
     "status": "completed"
    },
    "tags": []
   },
   "outputs": [
    {
     "name": "stderr",
     "output_type": "stream",
     "text": [
      "/opt/conda/lib/python3.10/site-packages/scipy/__init__.py:146: UserWarning: A NumPy version >=1.16.5 and <1.23.0 is required for this version of SciPy (detected version 1.23.5\n",
      "  warnings.warn(f\"A NumPy version >={np_minversion} and <{np_maxversion}\"\n"
     ]
    }
   ],
   "source": [
    "import tensorflow as tf\n",
    "from tensorflow.keras.models import Sequential\n",
    "from tensorflow.keras.layers import Conv2D, MaxPooling2D, TimeDistributed, LSTM, Flatten, Dense\n",
    "\n",
    "# Assuming input shape as (time_steps, height, width, channels)\n",
    "input_shape = (10, 224, 224, 3)\n",
    "\n",
    "model = Sequential()\n",
    "model.add(TimeDistributed(Conv2D(64, (3, 3), activation='relu'), input_shape=input_shape))\n",
    "model.add(TimeDistributed(MaxPooling2D(pool_size=(2, 2))))\n",
    "model.add(TimeDistributed(Flatten()))\n",
    "model.add(LSTM(50, return_sequences=True))\n",
    "model.add(LSTM(50))\n",
    "model.add(Dense(7, activation='softmax'))  # Assuming 7 classes for human activities\n",
    "\n",
    "model.compile(optimizer='adam', loss='categorical_crossentropy', metrics=['accuracy'])\n"
   ]
  },
  {
   "cell_type": "code",
   "execution_count": 5,
   "id": "edf0347b",
   "metadata": {
    "execution": {
     "iopub.execute_input": "2023-12-06T16:01:00.451190Z",
     "iopub.status.busy": "2023-12-06T16:01:00.450433Z",
     "iopub.status.idle": "2023-12-06T16:01:14.364940Z",
     "shell.execute_reply": "2023-12-06T16:01:14.363724Z"
    },
    "papermill": {
     "duration": 13.939983,
     "end_time": "2023-12-06T16:01:14.367381",
     "exception": false,
     "start_time": "2023-12-06T16:01:00.427398",
     "status": "completed"
    },
    "tags": []
   },
   "outputs": [
    {
     "name": "stdout",
     "output_type": "stream",
     "text": [
      "X_train shape: (2108, 224, 224, 3)\n",
      "Y_train shape: (2108,)\n",
      "X_test shape: (528, 224, 224, 3)\n",
      "Y_test shape: (528,)\n"
     ]
    }
   ],
   "source": [
    "import cv2\n",
    "import os\n",
    "import numpy as np\n",
    "from sklearn.utils import shuffle\n",
    "from sklearn.model_selection import train_test_split\n",
    "\n",
    "# Function to preprocess a single frame\n",
    "def preprocess_frame(frame, image_size=(224, 224)):\n",
    "    # Resize the frame\n",
    "    frame = cv2.resize(frame, image_size)\n",
    "    \n",
    "    # Normalize pixel values to the range [0, 1]\n",
    "    frame = frame / 255.0\n",
    "    \n",
    "    return frame\n",
    "\n",
    "# Define the input folder containing the video files and subfolders\n",
    "input_folder = '/kaggle/input/final-year-project/project_videos'\n",
    "\n",
    "# Define the output folder where frames will be saved\n",
    "output_folder = '/kaggle/working/project_frames_resized'\n",
    "\n",
    "# Create the output folder if it doesn't exist\n",
    "os.makedirs(output_folder, exist_ok=True)\n",
    "\n",
    "# List all video files in the input folder and its subfolders\n",
    "video_files = [os.path.join(root, f) for root, dirs, files in os.walk(input_folder) for f in files if f.endswith('.mp4')]\n",
    "\n",
    "image_size = (224, 224)  # Set the desired image size\n",
    "\n",
    "X = []  # List to store preprocessed frames\n",
    "Y = []  # List to store labels\n",
    "\n",
    "for video_file in video_files:\n",
    "    label = os.path.basename(os.path.dirname(video_file))\n",
    "    video_path = os.path.join(input_folder, video_file)\n",
    "    video_capture = cv2.VideoCapture(video_path)\n",
    "\n",
    "    if not video_capture.isOpened():\n",
    "        print(f\"Error: Could not open video file {video_file}\")\n",
    "        continue\n",
    "\n",
    "    while True:\n",
    "        ret, frame = video_capture.read()\n",
    "\n",
    "        if not ret:\n",
    "            break\n",
    "\n",
    "        # Preprocess the frame\n",
    "        preprocessed_frame = preprocess_frame(frame, image_size)\n",
    "        \n",
    "        X.append(preprocessed_frame)\n",
    "        Y.append(label)\n",
    "\n",
    "    video_capture.release()\n",
    "\n",
    "# Convert lists to NumPy arrays\n",
    "X = np.array(X)\n",
    "Y = np.array(Y)\n",
    "\n",
    "# Shuffle the data\n",
    "X, Y = shuffle(X, Y, random_state=42)\n",
    "\n",
    "# Split the data into training and testing sets\n",
    "X_train, X_test, Y_train, Y_test = train_test_split(X, Y, test_size=0.2, random_state=42)\n",
    "\n",
    "# Print the shapes of the datasets\n",
    "print(\"X_train shape:\", X_train.shape)\n",
    "print(\"Y_train shape:\", Y_train.shape)\n",
    "print(\"X_test shape:\", X_test.shape)\n",
    "print(\"Y_test shape:\", Y_test.shape)\n"
   ]
  },
  {
   "cell_type": "code",
   "execution_count": 6,
   "id": "151fcc99",
   "metadata": {
    "execution": {
     "iopub.execute_input": "2023-12-06T16:01:14.413936Z",
     "iopub.status.busy": "2023-12-06T16:01:14.413260Z",
     "iopub.status.idle": "2023-12-06T16:01:46.324020Z",
     "shell.execute_reply": "2023-12-06T16:01:46.322896Z"
    },
    "papermill": {
     "duration": 31.936239,
     "end_time": "2023-12-06T16:01:46.326554",
     "exception": false,
     "start_time": "2023-12-06T16:01:14.390315",
     "status": "completed"
    },
    "tags": []
   },
   "outputs": [
    {
     "name": "stdout",
     "output_type": "stream",
     "text": [
      "Requirement already satisfied: tensorflow in /opt/conda/lib/python3.10/site-packages (2.12.0)\r\n",
      "Requirement already satisfied: absl-py>=1.0.0 in /opt/conda/lib/python3.10/site-packages (from tensorflow) (1.4.0)\r\n",
      "Requirement already satisfied: astunparse>=1.6.0 in /opt/conda/lib/python3.10/site-packages (from tensorflow) (1.6.3)\r\n",
      "Requirement already satisfied: flatbuffers>=2.0 in /opt/conda/lib/python3.10/site-packages (from tensorflow) (23.5.26)\r\n",
      "Requirement already satisfied: gast<=0.4.0,>=0.2.1 in /opt/conda/lib/python3.10/site-packages (from tensorflow) (0.4.0)\r\n",
      "Requirement already satisfied: google-pasta>=0.1.1 in /opt/conda/lib/python3.10/site-packages (from tensorflow) (0.2.0)\r\n",
      "Requirement already satisfied: grpcio<2.0,>=1.24.3 in /opt/conda/lib/python3.10/site-packages (from tensorflow) (1.51.1)\r\n",
      "Requirement already satisfied: h5py>=2.9.0 in /opt/conda/lib/python3.10/site-packages (from tensorflow) (3.9.0)\r\n",
      "Requirement already satisfied: jax>=0.3.15 in /opt/conda/lib/python3.10/site-packages (from tensorflow) (0.4.13)\r\n",
      "Requirement already satisfied: keras<2.13,>=2.12.0 in /opt/conda/lib/python3.10/site-packages (from tensorflow) (2.12.0)\r\n",
      "Requirement already satisfied: libclang>=13.0.0 in /opt/conda/lib/python3.10/site-packages (from tensorflow) (16.0.0)\r\n",
      "Requirement already satisfied: numpy<1.24,>=1.22 in /opt/conda/lib/python3.10/site-packages (from tensorflow) (1.23.5)\r\n",
      "Requirement already satisfied: opt-einsum>=2.3.2 in /opt/conda/lib/python3.10/site-packages (from tensorflow) (3.3.0)\r\n",
      "Requirement already satisfied: packaging in /opt/conda/lib/python3.10/site-packages (from tensorflow) (21.3)\r\n",
      "Requirement already satisfied: protobuf!=4.21.0,!=4.21.1,!=4.21.2,!=4.21.3,!=4.21.4,!=4.21.5,<5.0.0dev,>=3.20.3 in /opt/conda/lib/python3.10/site-packages (from tensorflow) (3.20.3)\r\n",
      "Requirement already satisfied: setuptools in /opt/conda/lib/python3.10/site-packages (from tensorflow) (68.0.0)\r\n",
      "Requirement already satisfied: six>=1.12.0 in /opt/conda/lib/python3.10/site-packages (from tensorflow) (1.16.0)\r\n",
      "Requirement already satisfied: tensorboard<2.13,>=2.12 in /opt/conda/lib/python3.10/site-packages (from tensorflow) (2.12.3)\r\n",
      "Requirement already satisfied: tensorflow-estimator<2.13,>=2.12.0 in /opt/conda/lib/python3.10/site-packages (from tensorflow) (2.12.0)\r\n",
      "Requirement already satisfied: termcolor>=1.1.0 in /opt/conda/lib/python3.10/site-packages (from tensorflow) (2.3.0)\r\n",
      "Requirement already satisfied: typing-extensions>=3.6.6 in /opt/conda/lib/python3.10/site-packages (from tensorflow) (4.6.3)\r\n",
      "Requirement already satisfied: wrapt<1.15,>=1.11.0 in /opt/conda/lib/python3.10/site-packages (from tensorflow) (1.14.1)\r\n",
      "Requirement already satisfied: tensorflow-io-gcs-filesystem>=0.23.1 in /opt/conda/lib/python3.10/site-packages (from tensorflow) (0.32.0)\r\n",
      "Requirement already satisfied: wheel<1.0,>=0.23.0 in /opt/conda/lib/python3.10/site-packages (from astunparse>=1.6.0->tensorflow) (0.40.0)\r\n",
      "Requirement already satisfied: ml-dtypes>=0.1.0 in /opt/conda/lib/python3.10/site-packages (from jax>=0.3.15->tensorflow) (0.2.0)\r\n",
      "Requirement already satisfied: scipy>=1.7 in /opt/conda/lib/python3.10/site-packages (from jax>=0.3.15->tensorflow) (1.11.2)\r\n",
      "Requirement already satisfied: google-auth<3,>=1.6.3 in /opt/conda/lib/python3.10/site-packages (from tensorboard<2.13,>=2.12->tensorflow) (2.20.0)\r\n",
      "Requirement already satisfied: google-auth-oauthlib<1.1,>=0.5 in /opt/conda/lib/python3.10/site-packages (from tensorboard<2.13,>=2.12->tensorflow) (1.0.0)\r\n",
      "Requirement already satisfied: markdown>=2.6.8 in /opt/conda/lib/python3.10/site-packages (from tensorboard<2.13,>=2.12->tensorflow) (3.4.3)\r\n",
      "Requirement already satisfied: requests<3,>=2.21.0 in /opt/conda/lib/python3.10/site-packages (from tensorboard<2.13,>=2.12->tensorflow) (2.31.0)\r\n",
      "Requirement already satisfied: tensorboard-data-server<0.8.0,>=0.7.0 in /opt/conda/lib/python3.10/site-packages (from tensorboard<2.13,>=2.12->tensorflow) (0.7.1)\r\n",
      "Requirement already satisfied: werkzeug>=1.0.1 in /opt/conda/lib/python3.10/site-packages (from tensorboard<2.13,>=2.12->tensorflow) (2.3.7)\r\n",
      "Requirement already satisfied: pyparsing!=3.0.5,>=2.0.2 in /opt/conda/lib/python3.10/site-packages (from packaging->tensorflow) (3.0.9)\r\n",
      "Requirement already satisfied: cachetools<6.0,>=2.0.0 in /opt/conda/lib/python3.10/site-packages (from google-auth<3,>=1.6.3->tensorboard<2.13,>=2.12->tensorflow) (4.2.4)\r\n",
      "Requirement already satisfied: pyasn1-modules>=0.2.1 in /opt/conda/lib/python3.10/site-packages (from google-auth<3,>=1.6.3->tensorboard<2.13,>=2.12->tensorflow) (0.2.7)\r\n",
      "Requirement already satisfied: rsa<5,>=3.1.4 in /opt/conda/lib/python3.10/site-packages (from google-auth<3,>=1.6.3->tensorboard<2.13,>=2.12->tensorflow) (4.9)\r\n",
      "Requirement already satisfied: urllib3<2.0 in /opt/conda/lib/python3.10/site-packages (from google-auth<3,>=1.6.3->tensorboard<2.13,>=2.12->tensorflow) (1.26.15)\r\n",
      "Requirement already satisfied: requests-oauthlib>=0.7.0 in /opt/conda/lib/python3.10/site-packages (from google-auth-oauthlib<1.1,>=0.5->tensorboard<2.13,>=2.12->tensorflow) (1.3.1)\r\n",
      "Requirement already satisfied: charset-normalizer<4,>=2 in /opt/conda/lib/python3.10/site-packages (from requests<3,>=2.21.0->tensorboard<2.13,>=2.12->tensorflow) (3.1.0)\r\n",
      "Requirement already satisfied: idna<4,>=2.5 in /opt/conda/lib/python3.10/site-packages (from requests<3,>=2.21.0->tensorboard<2.13,>=2.12->tensorflow) (3.4)\r\n",
      "Requirement already satisfied: certifi>=2017.4.17 in /opt/conda/lib/python3.10/site-packages (from requests<3,>=2.21.0->tensorboard<2.13,>=2.12->tensorflow) (2023.7.22)\r\n",
      "Requirement already satisfied: MarkupSafe>=2.1.1 in /opt/conda/lib/python3.10/site-packages (from werkzeug>=1.0.1->tensorboard<2.13,>=2.12->tensorflow) (2.1.3)\r\n",
      "Requirement already satisfied: pyasn1<0.5.0,>=0.4.6 in /opt/conda/lib/python3.10/site-packages (from pyasn1-modules>=0.2.1->google-auth<3,>=1.6.3->tensorboard<2.13,>=2.12->tensorflow) (0.4.8)\r\n",
      "Requirement already satisfied: oauthlib>=3.0.0 in /opt/conda/lib/python3.10/site-packages (from requests-oauthlib>=0.7.0->google-auth-oauthlib<1.1,>=0.5->tensorboard<2.13,>=2.12->tensorflow) (3.2.2)\r\n"
     ]
    }
   ],
   "source": [
    "!pip install tensorflow\n"
   ]
  },
  {
   "cell_type": "code",
   "execution_count": 7,
   "id": "e0d112c5",
   "metadata": {
    "execution": {
     "iopub.execute_input": "2023-12-06T16:01:46.370992Z",
     "iopub.status.busy": "2023-12-06T16:01:46.370591Z",
     "iopub.status.idle": "2023-12-06T16:01:47.277292Z",
     "shell.execute_reply": "2023-12-06T16:01:47.276406Z"
    },
    "papermill": {
     "duration": 0.931414,
     "end_time": "2023-12-06T16:01:47.279721",
     "exception": false,
     "start_time": "2023-12-06T16:01:46.348307",
     "status": "completed"
    },
    "tags": []
   },
   "outputs": [],
   "source": [
    "from tensorflow.keras.applications import VGG16\n",
    "\n",
    "# Path to the manually downloaded weights file\n",
    "weights_path = '/kaggle/input/vgg16/vgg16_weights_tf_dim_ordering_tf_kernels_notop.h5'\n",
    "\n",
    "# Load VGG16 model with custom weights path\n",
    "base_model = VGG16(weights=weights_path, include_top=False, input_shape=(224, 224, 3))\n"
   ]
  },
  {
   "cell_type": "code",
   "execution_count": 8,
   "id": "7a251fc1",
   "metadata": {
    "execution": {
     "iopub.execute_input": "2023-12-06T16:01:47.323905Z",
     "iopub.status.busy": "2023-12-06T16:01:47.323613Z",
     "iopub.status.idle": "2023-12-06T16:01:48.058702Z",
     "shell.execute_reply": "2023-12-06T16:01:48.057891Z"
    },
    "papermill": {
     "duration": 0.759706,
     "end_time": "2023-12-06T16:01:48.060945",
     "exception": false,
     "start_time": "2023-12-06T16:01:47.301239",
     "status": "completed"
    },
    "tags": []
   },
   "outputs": [],
   "source": [
    "from keras.layers import Input, Reshape, TimeDistributed\n",
    "from keras.applications import VGG16\n",
    "from keras.layers import Dense, GlobalAveragePooling3D\n",
    "from keras.models import Model\n",
    "\n",
    "# Assuming input shape is (num_frames, 224, 224, 3)\n",
    "num_frames = 255   # Replace ... with the actual number of frames per sample in your dataset\n",
    "\n",
    "# Reshape input data\n",
    "input_shape = (num_frames, 224, 224, 3)\n",
    "input_tensor = Input(shape=input_shape)\n",
    "reshaped_input = Reshape((num_frames, 224, 224, 3))(input_tensor)\n",
    "\n",
    "# Load pre-trained VGG16 model without top classification layer\n",
    "weights_path = '/kaggle/input/vgg16/vgg16_weights_tf_dim_ordering_tf_kernels_notop.h5'\n",
    "base_model = VGG16(weights=weights_path, include_top=False, input_shape=(224, 224, 3))\n",
    "\n",
    "# Apply VGG16 model to each frame in the sequence\n",
    "encoded_frames = TimeDistributed(base_model)(reshaped_input)\n",
    "\n",
    "# Add GlobalAveragePooling3D layer\n",
    "x = GlobalAveragePooling3D()(encoded_frames)\n",
    "# Add a dense layer for classification (adjust the number of classes based on your problem)\n",
    "num_classes = 7 # Replace ... with the actual number of classes in your problem\n",
    "output = Dense(num_classes, activation='softmax')(x)\n",
    "\n",
    "# Create the model\n",
    "model = Model(inputs=input_tensor, outputs=output)\n",
    "\n",
    "# Compile the model\n",
    "model.compile(optimizer='adam', loss='categorical_crossentropy', metrics=['accuracy'])\n"
   ]
  },
  {
   "cell_type": "code",
   "execution_count": 9,
   "id": "f7a90e71",
   "metadata": {
    "execution": {
     "iopub.execute_input": "2023-12-06T16:01:48.106488Z",
     "iopub.status.busy": "2023-12-06T16:01:48.106100Z",
     "iopub.status.idle": "2023-12-06T16:01:48.120965Z",
     "shell.execute_reply": "2023-12-06T16:01:48.120258Z"
    },
    "papermill": {
     "duration": 0.040248,
     "end_time": "2023-12-06T16:01:48.122856",
     "exception": false,
     "start_time": "2023-12-06T16:01:48.082608",
     "status": "completed"
    },
    "tags": []
   },
   "outputs": [],
   "source": [
    "# Assuming input shape is (num_samples, num_frames, 224, 224, 3)\n",
    "num_samples = 30  # Replace ... with the actual number of samples in your dataset\n",
    "num_frames = 255   # Replace ... with the actual number of frames per sample in your dataset\n",
    "\n",
    "# Reshape input data\n",
    "input_shape = (num_samples, num_frames, 224, 224, 3)\n",
    "input_tensor = Input(shape=input_shape[1:])  # Exclude the num_samples dimension\n",
    "reshaped_input = Reshape((num_frames, 224, 224, 3))(input_tensor)\n"
   ]
  },
  {
   "cell_type": "code",
   "execution_count": 10,
   "id": "29e34f8d",
   "metadata": {
    "execution": {
     "iopub.execute_input": "2023-12-06T16:01:48.166986Z",
     "iopub.status.busy": "2023-12-06T16:01:48.166711Z",
     "iopub.status.idle": "2023-12-06T16:01:48.172502Z",
     "shell.execute_reply": "2023-12-06T16:01:48.171787Z"
    },
    "papermill": {
     "duration": 0.029826,
     "end_time": "2023-12-06T16:01:48.174332",
     "exception": false,
     "start_time": "2023-12-06T16:01:48.144506",
     "status": "completed"
    },
    "tags": []
   },
   "outputs": [],
   "source": [
    "from keras.utils import to_categorical\n",
    "from sklearn.preprocessing import LabelEncoder\n",
    "\n",
    "# Assuming you have X_train and Y_train from your preprocessing step\n",
    "\n",
    "# Use LabelEncoder to convert string labels to integers\n",
    "label_encoder = LabelEncoder()\n",
    "Y_train_encoded = label_encoder.fit_transform(Y_train)\n",
    "\n",
    "# Convert labels to one-hot encoding\n",
    "Y_train_one_hot = to_categorical(Y_train_encoded, num_classes=num_classes)\n",
    "\n",
    "# Train the model\n",
    "batch_size = 32\n",
    "epochs = 10  # You can adjust this value"
   ]
  },
  {
   "cell_type": "code",
   "execution_count": 11,
   "id": "05799d18",
   "metadata": {
    "execution": {
     "iopub.execute_input": "2023-12-06T16:01:48.217603Z",
     "iopub.status.busy": "2023-12-06T16:01:48.217356Z",
     "iopub.status.idle": "2023-12-06T16:01:48.231475Z",
     "shell.execute_reply": "2023-12-06T16:01:48.230814Z"
    },
    "papermill": {
     "duration": 0.037906,
     "end_time": "2023-12-06T16:01:48.233457",
     "exception": false,
     "start_time": "2023-12-06T16:01:48.195551",
     "status": "completed"
    },
    "tags": []
   },
   "outputs": [],
   "source": [
    "# Example assuming input shape is (num_samples, num_frames, 224, 224, 3)\n",
    "input_shape = (num_samples, num_frames, 224, 224, 3)\n",
    "input_tensor = Input(shape=input_shape[1:])  # Exclude the num_samples dimension\n",
    "reshaped_input = Reshape((num_frames, 224, 224, 3))(input_tensor)\n"
   ]
  },
  {
   "cell_type": "code",
   "execution_count": 12,
   "id": "21db6de2",
   "metadata": {
    "execution": {
     "iopub.execute_input": "2023-12-06T16:01:48.322877Z",
     "iopub.status.busy": "2023-12-06T16:01:48.322528Z",
     "iopub.status.idle": "2023-12-06T16:01:48.603281Z",
     "shell.execute_reply": "2023-12-06T16:01:48.602277Z"
    },
    "papermill": {
     "duration": 0.306218,
     "end_time": "2023-12-06T16:01:48.605760",
     "exception": false,
     "start_time": "2023-12-06T16:01:48.299542",
     "status": "completed"
    },
    "tags": []
   },
   "outputs": [
    {
     "name": "stdout",
     "output_type": "stream",
     "text": [
      "Model: \"model\"\n",
      "_________________________________________________________________\n",
      " Layer (type)                Output Shape              Param #   \n",
      "=================================================================\n",
      " input_2 (InputLayer)        [(None, 255, 224, 224, 3  0         \n",
      "                             )]                                  \n",
      "                                                                 \n",
      " reshape (Reshape)           (None, 255, 224, 224, 3)  0         \n",
      "                                                                 \n",
      " time_distributed_3 (TimeDis  (None, 255, 7, 7, 512)   14714688  \n",
      " tributed)                                                       \n",
      "                                                                 \n",
      " global_average_pooling3d (G  (None, 512)              0         \n",
      " lobalAveragePooling3D)                                          \n",
      "                                                                 \n",
      " dense_1 (Dense)             (None, 7)                 3591      \n",
      "                                                                 \n",
      "=================================================================\n",
      "Total params: 14,718,279\n",
      "Trainable params: 14,718,279\n",
      "Non-trainable params: 0\n",
      "_________________________________________________________________\n"
     ]
    },
    {
     "data": {
      "image/png": "[encoded data removed]",
      "text/plain": [
       "<IPython.core.display.Image object>"
      ]
     },
     "execution_count": 12,
     "metadata": {},
     "output_type": "execute_result"
    }
   ],
   "source": [
    "# Print model summary\n",
    "model.summary()\n",
    "\n",
    "# Visualize the model architecture\n",
    "from keras.utils import plot_model\n",
    "plot_model(model, to_file='model_plot.png', show_shapes=True, show_layer_names=True)\n"
   ]
  },
  {
   "cell_type": "code",
   "execution_count": 13,
   "id": "883efafa",
   "metadata": {
    "execution": {
     "iopub.execute_input": "2023-12-06T16:01:48.657027Z",
     "iopub.status.busy": "2023-12-06T16:01:48.656718Z",
     "iopub.status.idle": "2023-12-06T16:01:48.803767Z",
     "shell.execute_reply": "2023-12-06T16:01:48.802688Z"
    },
    "papermill": {
     "duration": 0.181113,
     "end_time": "2023-12-06T16:01:48.812444",
     "exception": false,
     "start_time": "2023-12-06T16:01:48.631331",
     "status": "completed"
    },
    "tags": []
   },
   "outputs": [
    {
     "name": "stdout",
     "output_type": "stream",
     "text": [
      "Model: \"sequential_1\"\n",
      "_________________________________________________________________\n",
      " Layer (type)                Output Shape              Param #   \n",
      "=================================================================\n",
      " conv2d_1 (Conv2D)           (None, 222, 222, 32)      896       \n",
      "                                                                 \n",
      " max_pooling2d_1 (MaxPooling  (None, 111, 111, 32)     0         \n",
      " 2D)                                                             \n",
      "                                                                 \n",
      " conv2d_2 (Conv2D)           (None, 109, 109, 64)      18496     \n",
      "                                                                 \n",
      " max_pooling2d_2 (MaxPooling  (None, 54, 54, 64)       0         \n",
      " 2D)                                                             \n",
      "                                                                 \n",
      " conv2d_3 (Conv2D)           (None, 52, 52, 128)       73856     \n",
      "                                                                 \n",
      " max_pooling2d_3 (MaxPooling  (None, 26, 26, 128)      0         \n",
      " 2D)                                                             \n",
      "                                                                 \n",
      " flatten_1 (Flatten)         (None, 86528)             0         \n",
      "                                                                 \n",
      " dense_2 (Dense)             (None, 256)               22151424  \n",
      "                                                                 \n",
      " dropout (Dropout)           (None, 256)               0         \n",
      "                                                                 \n",
      " dense_3 (Dense)             (None, 128)               32896     \n",
      "                                                                 \n",
      " dropout_1 (Dropout)         (None, 128)               0         \n",
      "                                                                 \n",
      " dense_4 (Dense)             (None, 7)                 903       \n",
      "                                                                 \n",
      "=================================================================\n",
      "Total params: 22,278,471\n",
      "Trainable params: 22,278,471\n",
      "Non-trainable params: 0\n",
      "_________________________________________________________________\n"
     ]
    }
   ],
   "source": [
    "from tensorflow.keras.models import Sequential\n",
    "from tensorflow.keras.layers import Conv2D, MaxPooling2D, Flatten, Dense, Dropout\n",
    "\n",
    "# Define the model\n",
    "model = Sequential()\n",
    "\n",
    "# Convolutional layers\n",
    "model.add(Conv2D(32, (3, 3), activation='relu', input_shape=(224, 224, 3)))\n",
    "model.add(MaxPooling2D((2, 2)))\n",
    "\n",
    "model.add(Conv2D(64, (3, 3), activation='relu'))\n",
    "model.add(MaxPooling2D((2, 2)))\n",
    "\n",
    "model.add(Conv2D(128, (3, 3), activation='relu'))\n",
    "model.add(MaxPooling2D((2, 2)))\n",
    "\n",
    "# Flatten layer to transition from convolutional to fully connected layers\n",
    "model.add(Flatten())\n",
    "\n",
    "# Fully connected layers\n",
    "model.add(Dense(256, activation='relu'))\n",
    "model.add(Dropout(0.5))  # Adding dropout for regularization\n",
    "\n",
    "model.add(Dense(128, activation='relu'))\n",
    "model.add(Dropout(0.5))\n",
    "\n",
    "# Output layer\n",
    "num_classes = 7  # Adjust based on the number of classes in your problem\n",
    "model.add(Dense(num_classes, activation='softmax'))\n",
    "\n",
    "# Compile the model\n",
    "model.compile(optimizer='adam', loss='categorical_crossentropy', metrics=['accuracy'])\n",
    "\n",
    "# Print model summary\n",
    "model.summary()\n"
   ]
  },
  {
   "cell_type": "code",
   "execution_count": 14,
   "id": "41af295e",
   "metadata": {
    "execution": {
     "iopub.execute_input": "2023-12-06T16:01:48.867509Z",
     "iopub.status.busy": "2023-12-06T16:01:48.867177Z",
     "iopub.status.idle": "2023-12-06T16:01:48.872823Z",
     "shell.execute_reply": "2023-12-06T16:01:48.872134Z"
    },
    "papermill": {
     "duration": 0.035075,
     "end_time": "2023-12-06T16:01:48.874667",
     "exception": false,
     "start_time": "2023-12-06T16:01:48.839592",
     "status": "completed"
    },
    "tags": []
   },
   "outputs": [],
   "source": [
    "import tensorflow as tf\n",
    "from tensorflow.keras import layers, models\n",
    "from tensorflow.keras.applications import VGG16\n",
    "from tensorflow.keras.preprocessing.image import ImageDataGenerator\n"
   ]
  },
  {
   "cell_type": "code",
   "execution_count": 15,
   "id": "8b71f6dd",
   "metadata": {
    "execution": {
     "iopub.execute_input": "2023-12-06T16:01:48.927374Z",
     "iopub.status.busy": "2023-12-06T16:01:48.927068Z",
     "iopub.status.idle": "2023-12-06T16:01:49.484650Z",
     "shell.execute_reply": "2023-12-06T16:01:49.483656Z"
    },
    "papermill": {
     "duration": 0.586702,
     "end_time": "2023-12-06T16:01:49.487142",
     "exception": false,
     "start_time": "2023-12-06T16:01:48.900440",
     "status": "completed"
    },
    "tags": []
   },
   "outputs": [],
   "source": [
    "# Download the weights manually and place them in your working directory\n",
    "# Or specify the path to the downloaded file\n",
    "weights_path = '/kaggle/input/vgg16/vgg16_weights_tf_dim_ordering_tf_kernels_notop.h5'\n",
    "base_model = VGG16(weights=weights_path, include_top=False, input_shape=(224, 224, 3))\n",
    "\n",
    "for layer in base_model.layers:\n",
    "    layer.trainable = False"
   ]
  },
  {
   "cell_type": "code",
   "execution_count": 16,
   "id": "ebfec5c0",
   "metadata": {
    "execution": {
     "iopub.execute_input": "2023-12-06T16:01:49.551125Z",
     "iopub.status.busy": "2023-12-06T16:01:49.550757Z",
     "iopub.status.idle": "2023-12-06T16:01:49.661102Z",
     "shell.execute_reply": "2023-12-06T16:01:49.660245Z"
    },
    "papermill": {
     "duration": 0.145035,
     "end_time": "2023-12-06T16:01:49.663593",
     "exception": false,
     "start_time": "2023-12-06T16:01:49.518558",
     "status": "completed"
    },
    "tags": []
   },
   "outputs": [],
   "source": [
    "# Add custom layers on top of VGG16\n",
    "model = models.Sequential()\n",
    "model.add(base_model)\n",
    "model.add(layers.Flatten())\n",
    "model.add(layers.Dense(256, activation='relu'))\n",
    "model.add(layers.Dropout(0.5))\n",
    "model.add(layers.Dense(num_classes, activation='softmax'))"
   ]
  },
  {
   "cell_type": "code",
   "execution_count": 17,
   "id": "d7735c59",
   "metadata": {
    "execution": {
     "iopub.execute_input": "2023-12-06T16:01:49.720355Z",
     "iopub.status.busy": "2023-12-06T16:01:49.719975Z",
     "iopub.status.idle": "2023-12-06T16:01:49.731790Z",
     "shell.execute_reply": "2023-12-06T16:01:49.730925Z"
    },
    "papermill": {
     "duration": 0.042461,
     "end_time": "2023-12-06T16:01:49.733961",
     "exception": false,
     "start_time": "2023-12-06T16:01:49.691500",
     "status": "completed"
    },
    "tags": []
   },
   "outputs": [],
   "source": [
    "# Compile the model\n",
    "model.compile(optimizer='adam', loss='categorical_crossentropy', metrics=['accuracy'])"
   ]
  },
  {
   "cell_type": "code",
   "execution_count": 18,
   "id": "7ec28ede",
   "metadata": {
    "execution": {
     "iopub.execute_input": "2023-12-06T16:01:49.797238Z",
     "iopub.status.busy": "2023-12-06T16:01:49.796406Z",
     "iopub.status.idle": "2023-12-06T16:01:49.809669Z",
     "shell.execute_reply": "2023-12-06T16:01:49.808559Z"
    },
    "papermill": {
     "duration": 0.047736,
     "end_time": "2023-12-06T16:01:49.811827",
     "exception": false,
     "start_time": "2023-12-06T16:01:49.764091",
     "status": "completed"
    },
    "tags": []
   },
   "outputs": [],
   "source": [
    "# Convert labels to one-hot encodin\n",
    "from sklearn.preprocessing import LabelBinarizer\n",
    "\n",
    "label_binarizer = LabelBinarizer()\n",
    "Y_train_one_hot = label_binarizer.fit_transform(Y_train)\n",
    "Y_test_one_hot = label_binarizer.transform(Y_test)"
   ]
  },
  {
   "cell_type": "code",
   "execution_count": 19,
   "id": "3eb67b98",
   "metadata": {
    "execution": {
     "iopub.execute_input": "2023-12-06T16:01:49.873964Z",
     "iopub.status.busy": "2023-12-06T16:01:49.873620Z",
     "iopub.status.idle": "2023-12-06T16:06:06.763775Z",
     "shell.execute_reply": "2023-12-06T16:06:06.762606Z"
    },
    "papermill": {
     "duration": 256.923641,
     "end_time": "2023-12-06T16:06:06.766033",
     "exception": false,
     "start_time": "2023-12-06T16:01:49.842392",
     "status": "completed"
    },
    "tags": []
   },
   "outputs": [
    {
     "name": "stdout",
     "output_type": "stream",
     "text": [
      "Epoch 1/10\n",
      "66/66 [==============================] - 43s 461ms/step - loss: 1.3048 - accuracy: 0.6584 - val_loss: 0.2595 - val_accuracy: 0.8977\n",
      "Epoch 2/10\n",
      "66/66 [==============================] - 24s 360ms/step - loss: 0.4207 - accuracy: 0.8449 - val_loss: 0.1203 - val_accuracy: 0.9830\n",
      "Epoch 3/10\n",
      "66/66 [==============================] - 24s 360ms/step - loss: 0.2890 - accuracy: 0.8966 - val_loss: 0.0371 - val_accuracy: 0.9943\n",
      "Epoch 4/10\n",
      "66/66 [==============================] - 24s 356ms/step - loss: 0.2142 - accuracy: 0.9217 - val_loss: 0.0290 - val_accuracy: 0.9962\n",
      "Epoch 5/10\n",
      "66/66 [==============================] - 24s 356ms/step - loss: 0.2209 - accuracy: 0.9222 - val_loss: 0.0337 - val_accuracy: 0.9924\n",
      "Epoch 6/10\n",
      "66/66 [==============================] - 24s 356ms/step - loss: 0.1983 - accuracy: 0.9265 - val_loss: 0.0235 - val_accuracy: 1.0000\n",
      "Epoch 7/10\n",
      "66/66 [==============================] - 24s 356ms/step - loss: 0.1863 - accuracy: 0.9298 - val_loss: 0.0169 - val_accuracy: 1.0000\n",
      "Epoch 8/10\n",
      "66/66 [==============================] - 24s 355ms/step - loss: 0.1731 - accuracy: 0.9355 - val_loss: 0.0114 - val_accuracy: 1.0000\n",
      "Epoch 9/10\n",
      "66/66 [==============================] - 23s 351ms/step - loss: 0.1858 - accuracy: 0.9284 - val_loss: 0.0142 - val_accuracy: 1.0000\n",
      "Epoch 10/10\n",
      "66/66 [==============================] - 24s 365ms/step - loss: 0.1627 - accuracy: 0.9398 - val_loss: 0.0138 - val_accuracy: 0.9981\n"
     ]
    }
   ],
   "source": [
    "# Create an ImageDataGenerator for data augmentation\n",
    "datagen = ImageDataGenerator(rotation_range=20, width_shift_range=0.2, height_shift_range=0.2, shear_range=0.2, zoom_range=0.2, horizontal_flip=True)\n",
    "\n",
    "history = model.fit(datagen.flow(X_train, Y_train_one_hot, batch_size=batch_size), epochs=epochs, validation_data=(X_test, Y_test_one_hot))\n"
   ]
  },
  {
   "cell_type": "code",
   "execution_count": 20,
   "id": "e53cdd79",
   "metadata": {
    "execution": {
     "iopub.execute_input": "2023-12-06T16:06:06.922780Z",
     "iopub.status.busy": "2023-12-06T16:06:06.922456Z",
     "iopub.status.idle": "2023-12-06T16:06:09.292174Z",
     "shell.execute_reply": "2023-12-06T16:06:09.291036Z"
    },
    "papermill": {
     "duration": 2.44907,
     "end_time": "2023-12-06T16:06:09.294058",
     "exception": false,
     "start_time": "2023-12-06T16:06:06.844988",
     "status": "completed"
    },
    "tags": []
   },
   "outputs": [
    {
     "name": "stdout",
     "output_type": "stream",
     "text": [
      "17/17 [==============================] - 2s 116ms/step - loss: 0.0138 - accuracy: 0.9981\n",
      "Test accuracy: 99.81%\n"
     ]
    }
   ],
   "source": [
    "# Evaluate the model\n",
    "test_loss, test_acc = model.evaluate(X_test, Y_test_one_hot)\n",
    "print(f'Test accuracy: {test_acc * 100:.2f}%')"
   ]
  },
  {
   "cell_type": "code",
   "execution_count": 21,
   "id": "2f552ec5",
   "metadata": {
    "execution": {
     "iopub.execute_input": "2023-12-06T16:06:09.466528Z",
     "iopub.status.busy": "2023-12-06T16:06:09.465869Z",
     "iopub.status.idle": "2023-12-06T16:10:10.247794Z",
     "shell.execute_reply": "2023-12-06T16:10:10.246821Z"
    },
    "papermill": {
     "duration": 240.869845,
     "end_time": "2023-12-06T16:10:10.249770",
     "exception": false,
     "start_time": "2023-12-06T16:06:09.379925",
     "status": "completed"
    },
    "tags": []
   },
   "outputs": [
    {
     "name": "stdout",
     "output_type": "stream",
     "text": [
      "Model: \"sequential_3\"\n",
      "_________________________________________________________________\n",
      " Layer (type)                Output Shape              Param #   \n",
      "=================================================================\n",
      " vgg16 (Functional)          (None, 7, 7, 512)         14714688  \n",
      "                                                                 \n",
      " flatten_3 (Flatten)         (None, 25088)             0         \n",
      "                                                                 \n",
      " dense_7 (Dense)             (None, 256)               6422784   \n",
      "                                                                 \n",
      " dropout_3 (Dropout)         (None, 256)               0         \n",
      "                                                                 \n",
      " dense_8 (Dense)             (None, 7)                 1799      \n",
      "                                                                 \n",
      "=================================================================\n",
      "Total params: 21,139,271\n",
      "Trainable params: 6,424,583\n",
      "Non-trainable params: 14,714,688\n",
      "_________________________________________________________________\n",
      "Epoch 1/10\n",
      "66/66 [==============================] - 25s 362ms/step - loss: 1.1261 - accuracy: 0.6494 - val_loss: 0.1625 - val_accuracy: 0.9602\n",
      "Epoch 2/10\n",
      "66/66 [==============================] - 23s 354ms/step - loss: 0.4132 - accuracy: 0.8416 - val_loss: 0.0745 - val_accuracy: 0.9848\n",
      "Epoch 3/10\n",
      "66/66 [==============================] - 24s 358ms/step - loss: 0.3209 - accuracy: 0.8857 - val_loss: 0.0426 - val_accuracy: 0.9924\n",
      "Epoch 4/10\n",
      "66/66 [==============================] - 23s 354ms/step - loss: 0.2486 - accuracy: 0.9132 - val_loss: 0.0361 - val_accuracy: 0.9886\n",
      "Epoch 5/10\n",
      "66/66 [==============================] - 24s 355ms/step - loss: 0.2408 - accuracy: 0.9127 - val_loss: 0.0358 - val_accuracy: 0.9867\n",
      "Epoch 6/10\n",
      "66/66 [==============================] - 24s 360ms/step - loss: 0.1975 - accuracy: 0.9293 - val_loss: 0.0269 - val_accuracy: 0.9867\n",
      "Epoch 7/10\n",
      "66/66 [==============================] - 23s 354ms/step - loss: 0.1875 - accuracy: 0.9250 - val_loss: 0.0236 - val_accuracy: 0.9905\n",
      "Epoch 8/10\n",
      "66/66 [==============================] - 24s 355ms/step - loss: 0.1621 - accuracy: 0.9450 - val_loss: 0.0164 - val_accuracy: 0.9962\n",
      "Epoch 9/10\n",
      "66/66 [==============================] - 23s 352ms/step - loss: 0.1584 - accuracy: 0.9459 - val_loss: 0.0139 - val_accuracy: 0.9981\n",
      "Epoch 10/10\n",
      "66/66 [==============================] - 24s 360ms/step - loss: 0.1625 - accuracy: 0.9388 - val_loss: 0.0174 - val_accuracy: 0.9981\n",
      "17/17 [==============================] - 2s 115ms/step - loss: 0.0174 - accuracy: 0.9981\n",
      "Test accuracy: 99.81%\n"
     ]
    }
   ],
   "source": [
    "import tensorflow as tf\n",
    "from tensorflow.keras import layers, models\n",
    "from tensorflow.keras.applications import VGG16\n",
    "from tensorflow.keras.preprocessing.image import ImageDataGenerator\n",
    "\n",
    "# Freeze the layers of the pretrained model\n",
    "for layer in base_model.layers:\n",
    "    layer.trainable = False\n",
    "\n",
    "# Create a new model\n",
    "model = models.Sequential()\n",
    "\n",
    "# Add the pretrained VGG16 model\n",
    "model.add(base_model)\n",
    "\n",
    "# Add custom layers on top of VGG16\n",
    "model.add(layers.Flatten())\n",
    "model.add(layers.Dense(256, activation='relu'))\n",
    "model.add(layers.Dropout(0.5))\n",
    "model.add(layers.Dense(num_classes, activation='softmax'))  # num_classes is the number of classes in your dataset\n",
    "\n",
    "# Compile the model\n",
    "model.compile(optimizer='adam', loss='categorical_crossentropy', metrics=['accuracy'])\n",
    "\n",
    "# Display the model summary\n",
    "model.summary()\n",
    "\n",
    "# Convert labels to one-hot encoding\n",
    "from sklearn.preprocessing import LabelBinarizer\n",
    "label_binarizer = LabelBinarizer()\n",
    "Y_train_one_hot = label_binarizer.fit_transform(Y_train)\n",
    "Y_test_one_hot = label_binarizer.transform(Y_test)\n",
    "\n",
    "# Create an ImageDataGenerator for data augmentation\n",
    "datagen = ImageDataGenerator(rotation_range=20, width_shift_range=0.2, height_shift_range=0.2, shear_range=0.2, zoom_range=0.2, horizontal_flip=True)\n",
    "\n",
    "# Train the model\n",
    "batch_size = 32\n",
    "epochs = 10  # You can adjust this value\n",
    "\n",
    "history = model.fit(datagen.flow(X_train, Y_train_one_hot, batch_size=batch_size), epochs=epochs, validation_data=(X_test, Y_test_one_hot))\n",
    "\n",
    "# Evaluate the model\n",
    "test_loss, test_acc = model.evaluate(X_test, Y_test_one_hot)\n",
    "print(f'Test accuracy: {test_acc * 100:.2f}%')\n"
   ]
  },
  {
   "cell_type": "code",
   "execution_count": 22,
   "id": "b2b19d26",
   "metadata": {
    "execution": {
     "iopub.execute_input": "2023-12-06T16:10:10.513933Z",
     "iopub.status.busy": "2023-12-06T16:10:10.513590Z",
     "iopub.status.idle": "2023-12-06T16:14:07.496837Z",
     "shell.execute_reply": "2023-12-06T16:14:07.495776Z"
    },
    "papermill": {
     "duration": 237.117507,
     "end_time": "2023-12-06T16:14:07.498821",
     "exception": false,
     "start_time": "2023-12-06T16:10:10.381314",
     "status": "completed"
    },
    "tags": []
   },
   "outputs": [
    {
     "name": "stdout",
     "output_type": "stream",
     "text": [
      "Epoch 1/10\n",
      "66/66 [==============================] - 24s 364ms/step - loss: 0.1298 - accuracy: 0.9511 - val_loss: 0.0108 - val_accuracy: 1.0000\n",
      "Epoch 2/10\n",
      "66/66 [==============================] - 23s 353ms/step - loss: 0.1542 - accuracy: 0.9393 - val_loss: 0.0136 - val_accuracy: 0.9943\n",
      "Epoch 3/10\n",
      "66/66 [==============================] - 23s 353ms/step - loss: 0.1597 - accuracy: 0.9383 - val_loss: 0.0085 - val_accuracy: 1.0000\n",
      "Epoch 4/10\n",
      "66/66 [==============================] - 24s 357ms/step - loss: 0.1407 - accuracy: 0.9478 - val_loss: 0.0059 - val_accuracy: 0.9981\n",
      "Epoch 5/10\n",
      "66/66 [==============================] - 24s 361ms/step - loss: 0.1205 - accuracy: 0.9611 - val_loss: 0.0151 - val_accuracy: 0.9924\n",
      "Epoch 6/10\n",
      "66/66 [==============================] - 24s 359ms/step - loss: 0.1372 - accuracy: 0.9450 - val_loss: 0.0045 - val_accuracy: 1.0000\n",
      "Epoch 7/10\n",
      "66/66 [==============================] - 24s 358ms/step - loss: 0.1212 - accuracy: 0.9568 - val_loss: 0.0086 - val_accuracy: 0.9981\n",
      "Epoch 8/10\n",
      "66/66 [==============================] - 24s 356ms/step - loss: 0.1301 - accuracy: 0.9502 - val_loss: 0.0072 - val_accuracy: 1.0000\n",
      "Epoch 9/10\n",
      "66/66 [==============================] - 23s 354ms/step - loss: 0.1368 - accuracy: 0.9469 - val_loss: 0.0090 - val_accuracy: 1.0000\n",
      "Epoch 10/10\n",
      "66/66 [==============================] - 23s 348ms/step - loss: 0.1492 - accuracy: 0.9426 - val_loss: 0.0202 - val_accuracy: 0.9886\n",
      "Epoch 1: Training Accuracy - 95.11%\n",
      "Epoch 2: Training Accuracy - 93.93%\n",
      "Epoch 3: Training Accuracy - 93.83%\n",
      "Epoch 4: Training Accuracy - 94.78%\n",
      "Epoch 5: Training Accuracy - 96.11%\n",
      "Epoch 6: Training Accuracy - 94.50%\n",
      "Epoch 7: Training Accuracy - 95.68%\n",
      "Epoch 8: Training Accuracy - 95.02%\n",
      "Epoch 9: Training Accuracy - 94.69%\n",
      "Epoch 10: Training Accuracy - 94.26%\n"
     ]
    }
   ],
   "source": [
    "# Train the model\n",
    "batch_size = 32\n",
    "epochs = 10  # You can adjust this value\n",
    "\n",
    "history = model.fit(datagen.flow(X_train, Y_train_one_hot, batch_size=batch_size), epochs=epochs, validation_data=(X_test, Y_test_one_hot))\n",
    "\n",
    "# Extract training accuracy from history\n",
    "train_acc = history.history['accuracy']\n",
    "\n",
    "# Print training accuracy for each epoch\n",
    "for epoch, acc in enumerate(train_acc, 1):\n",
    "    print(f'Epoch {epoch}: Training Accuracy - {acc * 100:.2f}%')\n"
   ]
  },
  {
   "cell_type": "code",
   "execution_count": null,
   "id": "ca29cdf6",
   "metadata": {
    "papermill": {
     "duration": 0.185669,
     "end_time": "2023-12-06T16:14:07.877419",
     "exception": false,
     "start_time": "2023-12-06T16:14:07.691750",
     "status": "completed"
    },
    "tags": []
   },
   "outputs": [],
   "source": []
  },
  {
   "cell_type": "code",
   "execution_count": 23,
   "id": "9b721bca",
   "metadata": {
    "execution": {
     "iopub.execute_input": "2023-12-06T16:14:08.293461Z",
     "iopub.status.busy": "2023-12-06T16:14:08.292510Z",
     "iopub.status.idle": "2023-12-06T16:14:08.643028Z",
     "shell.execute_reply": "2023-12-06T16:14:08.641939Z"
    },
    "papermill": {
     "duration": 0.53766,
     "end_time": "2023-12-06T16:14:08.645384",
     "exception": false,
     "start_time": "2023-12-06T16:14:08.107724",
     "status": "completed"
    },
    "tags": []
   },
   "outputs": [
    {
     "data": {
      "image/png": "[encoded data removed]",
      "text/plain": [
       "<Figure size 640x480 with 1 Axes>"
      ]
     },
     "metadata": {},
     "output_type": "display_data"
    }
   ],
   "source": [
    "import matplotlib.pyplot as plt\n",
    "\n",
    "# Assuming you have the 'history' object from the model.fit method\n",
    "\n",
    "# Plot training & validation loss values\n",
    "plt.plot(history.history['loss'])\n",
    "plt.plot(history.history['val_loss'])\n",
    "plt.title('Model loss')\n",
    "plt.ylabel('Loss')\n",
    "plt.xlabel('Epoch')\n",
    "plt.legend(['Train', 'Validation'], loc='upper left')\n",
    "plt.show()\n"
   ]
  },
  {
   "cell_type": "code",
   "execution_count": 24,
   "id": "bf750825",
   "metadata": {
    "execution": {
     "iopub.execute_input": "2023-12-06T16:14:09.020598Z",
     "iopub.status.busy": "2023-12-06T16:14:09.020232Z",
     "iopub.status.idle": "2023-12-06T16:14:09.355798Z",
     "shell.execute_reply": "2023-12-06T16:14:09.354837Z"
    },
    "papermill": {
     "duration": 0.523316,
     "end_time": "2023-12-06T16:14:09.357920",
     "exception": false,
     "start_time": "2023-12-06T16:14:08.834604",
     "status": "completed"
    },
    "tags": []
   },
   "outputs": [
    {
     "data": {
      "image/png": "[encoded data removed]",
      "text/plain": [
       "<Figure size 640x480 with 1 Axes>"
      ]
     },
     "metadata": {},
     "output_type": "display_data"
    }
   ],
   "source": [
    "\n",
    "# Plot training & validation accuracy values\n",
    "plt.plot(history.history['accuracy'])\n",
    "plt.plot(history.history['val_accuracy'])\n",
    "plt.title('Model accuracy')\n",
    "plt.ylabel('Accuracy')\n",
    "plt.xlabel('Epoch')\n",
    "plt.legend(['Train', 'Validation'], loc='upper left')\n",
    "plt.savefig(\"history\")\n",
    "plt.show()"
   ]
  },
  {
   "cell_type": "markdown",
   "id": "ba73882e",
   "metadata": {
    "papermill": {
     "duration": 0.195509,
     "end_time": "2023-12-06T16:14:09.758608",
     "exception": false,
     "start_time": "2023-12-06T16:14:09.563099",
     "status": "completed"
    },
    "tags": []
   },
   "source": [
    "# Comparing accuracy of train and test dataset"
   ]
  },
  {
   "cell_type": "code",
   "execution_count": 25,
   "id": "88afef1b",
   "metadata": {
    "execution": {
     "iopub.execute_input": "2023-12-06T16:14:10.149221Z",
     "iopub.status.busy": "2023-12-06T16:14:10.148353Z",
     "iopub.status.idle": "2023-12-06T16:14:10.381058Z",
     "shell.execute_reply": "2023-12-06T16:14:10.380115Z"
    },
    "papermill": {
     "duration": 0.426287,
     "end_time": "2023-12-06T16:14:10.383019",
     "exception": false,
     "start_time": "2023-12-06T16:14:09.956732",
     "status": "completed"
    },
    "tags": []
   },
   "outputs": [
    {
     "data": {
      "image/png": "[encoded data removed]",
      "text/plain": [
       "<Figure size 640x480 with 1 Axes>"
      ]
     },
     "metadata": {},
     "output_type": "display_data"
    }
   ],
   "source": [
    "import matplotlib.pyplot as plt\n",
    "\n",
    "# Assuming you have the 'history' object from the model.fit method\n",
    "\n",
    "# Plot training & test accuracy values\n",
    "plt.plot(history.history['accuracy'], label='Train Accuracy')\n",
    "plt.plot(history.history['val_accuracy'], label='Test Accuracy')\n",
    "plt.title('Model Accuracy Comparison')\n",
    "plt.ylabel('Accuracy')\n",
    "plt.xlabel('Epoch')\n",
    "plt.legend()\n",
    "plt.show()\n"
   ]
  },
  {
   "cell_type": "code",
   "execution_count": 26,
   "id": "c6451350",
   "metadata": {
    "execution": {
     "iopub.execute_input": "2023-12-06T16:14:10.759856Z",
     "iopub.status.busy": "2023-12-06T16:14:10.759126Z",
     "iopub.status.idle": "2023-12-06T16:14:13.209020Z",
     "shell.execute_reply": "2023-12-06T16:14:13.208116Z"
    },
    "papermill": {
     "duration": 2.64084,
     "end_time": "2023-12-06T16:14:13.211134",
     "exception": false,
     "start_time": "2023-12-06T16:14:10.570294",
     "status": "completed"
    },
    "tags": []
   },
   "outputs": [
    {
     "name": "stdout",
     "output_type": "stream",
     "text": [
      "17/17 [==============================] - 2s 121ms/step\n",
      "Test Accuracy: 98.86%\n"
     ]
    }
   ],
   "source": [
    "# Assuming you have the trained 'model' and the preprocessed test data 'X_test'\n",
    "# Also, assuming you have the true labels for the test data 'Y_test'\n",
    "\n",
    "# Make predictions on the test data\n",
    "y_pred = model.predict(X_test)\n",
    "\n",
    "# Convert predictions to class labels\n",
    "predicted_labels = np.argmax(y_pred, axis=1)\n",
    "\n",
    "# Convert true labels to class labels\n",
    "true_labels = np.argmax(Y_test_one_hot, axis=1)\n",
    "\n",
    "# Compare predicted labels with true labels\n",
    "correct_predictions = (predicted_labels == true_labels)\n",
    "\n",
    "# Calculate accuracy\n",
    "accuracy = np.sum(correct_predictions) / len(correct_predictions)\n",
    "print(f'Test Accuracy: {accuracy * 100:.2f}%')\n"
   ]
  },
  {
   "cell_type": "code",
   "execution_count": 27,
   "id": "3c4a75ed",
   "metadata": {
    "execution": {
     "iopub.execute_input": "2023-12-06T16:14:13.592392Z",
     "iopub.status.busy": "2023-12-06T16:14:13.592029Z",
     "iopub.status.idle": "2023-12-06T16:14:23.999052Z",
     "shell.execute_reply": "2023-12-06T16:14:23.998039Z"
    },
    "papermill": {
     "duration": 10.60032,
     "end_time": "2023-12-06T16:14:24.001108",
     "exception": false,
     "start_time": "2023-12-06T16:14:13.400788",
     "status": "completed"
    },
    "tags": []
   },
   "outputs": [
    {
     "name": "stdout",
     "output_type": "stream",
     "text": [
      "Frames extracted and resized from /kaggle/input/final-year-project/project_videos/Sitting/video_folder(3).mp4: 132 frames\n",
      "Frames extracted and resized from /kaggle/input/final-year-project/project_videos/Sitting/video_folder(5).mp4: 70 frames\n",
      "Frames extracted and resized from /kaggle/input/final-year-project/project_videos/Sitting/video_folder(1).mp4: 71 frames\n",
      "Frames extracted and resized from /kaggle/input/final-year-project/project_videos/Sitting/video_folder(2).mp4: 88 frames\n",
      "Frames extracted and resized from /kaggle/input/final-year-project/project_videos/Sitting/video_folder(4).mp4: 61 frames\n",
      "Frames extracted and resized from /kaggle/input/final-year-project/project_videos/Sitting/video_folder.mp4: 77 frames\n",
      "Frames extracted and resized from /kaggle/input/final-year-project/project_videos/Walking/video_folder(3).mp4: 130 frames\n",
      "Frames extracted and resized from /kaggle/input/final-year-project/project_videos/Walking/video_folder(5).mp4: 184 frames\n",
      "Frames extracted and resized from /kaggle/input/final-year-project/project_videos/Walking/video_folder(1).mp4: 58 frames\n",
      "Frames extracted and resized from /kaggle/input/final-year-project/project_videos/Walking/video_folder(2).mp4: 51 frames\n",
      "Frames extracted and resized from /kaggle/input/final-year-project/project_videos/Walking/video_folder(4).mp4: 103 frames\n",
      "Frames extracted and resized from /kaggle/input/final-year-project/project_videos/Walking/video_folder.mp4: 183 frames\n",
      "Frames extracted and resized from /kaggle/input/final-year-project/project_videos/Walking/video_folder(7).mp4: 97 frames\n",
      "Frames extracted and resized from /kaggle/input/final-year-project/project_videos/Walking/video_folder(6).mp4: 66 frames\n",
      "Frames extracted and resized from /kaggle/input/final-year-project/project_videos/Running/video_folder(1).mp4: 55 frames\n",
      "Frames extracted and resized from /kaggle/input/final-year-project/project_videos/Running/video_folder.mp4: 121 frames\n",
      "Frames extracted and resized from /kaggle/input/final-year-project/project_videos/Downstairs/video_folder(3).mp4: 56 frames\n",
      "Frames extracted and resized from /kaggle/input/final-year-project/project_videos/Downstairs/video_folder(1).mp4: 97 frames\n",
      "Frames extracted and resized from /kaggle/input/final-year-project/project_videos/Downstairs/video_folder(2).mp4: 81 frames\n",
      "Frames extracted and resized from /kaggle/input/final-year-project/project_videos/Downstairs/video_folder.mp4: 115 frames\n",
      "Frames extracted and resized from /kaggle/input/final-year-project/project_videos/Standing/video_folder(1).mp4: 102 frames\n",
      "Frames extracted and resized from /kaggle/input/final-year-project/project_videos/Standing/video_folder(2).mp4: 73 frames\n",
      "Frames extracted and resized from /kaggle/input/final-year-project/project_videos/Standing/video_folder.mp4: 79 frames\n",
      "Frames extracted and resized from /kaggle/input/final-year-project/project_videos/upstairs/video_folder(1).mp4: 71 frames\n",
      "Frames extracted and resized from /kaggle/input/final-year-project/project_videos/upstairs/video_folder(2).mp4: 76 frames\n",
      "Frames extracted and resized from /kaggle/input/final-year-project/project_videos/upstairs/video_folder.mp4: 126 frames\n",
      "Frames extracted and resized from /kaggle/input/final-year-project/project_videos/Jogging/video_folder(1).mp4: 65 frames\n",
      "Frames extracted and resized from /kaggle/input/final-year-project/project_videos/Jogging/video_folder(2).mp4: 74 frames\n",
      "Frames extracted and resized from /kaggle/input/final-year-project/project_videos/Jogging/video_folder.mp4: 74 frames\n",
      "Training dataset obtained.\n"
     ]
    }
   ],
   "source": [
    "import cv2\n",
    "import os\n",
    "import shutil\n",
    "import random\n",
    "\n",
    "# Define the input folder containing video files\n",
    "input_folder = '/kaggle/input/final-year-project/project_videos'\n",
    "\n",
    "# Define the output folder where frames will be saved\n",
    "output_folder = '/kaggle/working/project_frames_resized/train'\n",
    "\n",
    "# Define the size to which frames will be resized\n",
    "image_size = (224, 224)\n",
    "\n",
    "# Create the output folder if it doesn't exist\n",
    "os.makedirs(output_folder, exist_ok=True)\n",
    "\n",
    "# List all video files in the input folder and its subfolders\n",
    "video_files = [os.path.join(root, f) for root, dirs, files in os.walk(input_folder) for f in files if f.endswith('.mp4')]\n",
    "\n",
    "# Define the percentage of frames to use for training\n",
    "train_percentage = 0.8\n",
    "\n",
    "# Create 'train' directory\n",
    "train_folder = os.path.join(output_folder, 'train')\n",
    "os.makedirs(train_folder, exist_ok=True)\n",
    "\n",
    "for video_file in video_files:\n",
    "    # Open the video file\n",
    "    video_capture = cv2.VideoCapture(video_file)\n",
    "\n",
    "    frame_count = 0\n",
    "\n",
    "    while True:\n",
    "        ret, frame = video_capture.read()\n",
    "\n",
    "        if not ret:\n",
    "            break\n",
    "\n",
    "        frame_count += 1\n",
    "\n",
    "        # Resize the frame\n",
    "        frame = cv2.resize(frame, image_size)\n",
    "\n",
    "        # Create subdirectories in the output folder based on the input folder structure\n",
    "        subdirectory = os.path.relpath(os.path.dirname(video_file), input_folder)\n",
    "        output_subfolder = os.path.join(train_folder, subdirectory)\n",
    "        os.makedirs(output_subfolder, exist_ok=True)\n",
    "\n",
    "        frame_filename = f\"{os.path.splitext(os.path.basename(video_file))[0]}_frame{frame_count:04d}.jpg\"\n",
    "        frame_path = os.path.join(output_subfolder, frame_filename)\n",
    "\n",
    "        cv2.imwrite(frame_path, frame)\n",
    "\n",
    "    video_capture.release()\n",
    "\n",
    "    print(f\"Frames extracted and resized from {video_file}: {frame_count} frames\")\n",
    "\n",
    "# Move a percentage of frames to the test set\n",
    "for class_folder in os.listdir(train_folder):\n",
    "    class_path = os.path.join(train_folder, class_folder)\n",
    "    files = os.listdir(class_path)\n",
    "    random.shuffle(files)\n",
    "    train_size = int(train_percentage * len(files))\n",
    "    train_files = files[:train_size]\n",
    "\n",
    "    # Create 'test' directory\n",
    "    test_folder = os.path.join(output_folder, 'test', class_folder)\n",
    "    os.makedirs(test_folder, exist_ok=True)\n",
    "\n",
    "    # Move files to the test set\n",
    "    for file in train_files:\n",
    "        src = os.path.join(class_path, file)\n",
    "        dst = os.path.join(test_folder, file)\n",
    "        os.makedirs(os.path.dirname(dst), exist_ok=True)\n",
    "        shutil.move(src, dst)\n",
    "\n",
    "print(\"Training dataset obtained.\")\n"
   ]
  },
  {
   "cell_type": "code",
   "execution_count": null,
   "id": "39a3bdb3",
   "metadata": {
    "papermill": {
     "duration": 0.189307,
     "end_time": "2023-12-06T16:14:24.381630",
     "exception": false,
     "start_time": "2023-12-06T16:14:24.192323",
     "status": "completed"
    },
    "tags": []
   },
   "outputs": [],
   "source": []
  },
  {
   "cell_type": "code",
   "execution_count": null,
   "id": "1dc739ae",
   "metadata": {
    "papermill": {
     "duration": 0.19091,
     "end_time": "2023-12-06T16:14:24.762048",
     "exception": false,
     "start_time": "2023-12-06T16:14:24.571138",
     "status": "completed"
    },
    "tags": []
   },
   "outputs": [],
   "source": []
  },
  {
   "cell_type": "code",
   "execution_count": 28,
   "id": "2d472e28",
   "metadata": {
    "execution": {
     "iopub.execute_input": "2023-12-06T16:14:25.145968Z",
     "iopub.status.busy": "2023-12-06T16:14:25.145278Z",
     "iopub.status.idle": "2023-12-06T16:14:25.150605Z",
     "shell.execute_reply": "2023-12-06T16:14:25.149760Z"
    },
    "papermill": {
     "duration": 0.197956,
     "end_time": "2023-12-06T16:14:25.152539",
     "exception": false,
     "start_time": "2023-12-06T16:14:24.954583",
     "status": "completed"
    },
    "tags": []
   },
   "outputs": [
    {
     "name": "stdout",
     "output_type": "stream",
     "text": [
      "['test', 'train']\n"
     ]
    }
   ],
   "source": [
    "import os\n",
    "\n",
    "train_path = '/kaggle/working/project_frames_resized/train'\n",
    "print(os.listdir(train_path))\n"
   ]
  },
  {
   "cell_type": "code",
   "execution_count": 29,
   "id": "1c800a55",
   "metadata": {
    "execution": {
     "iopub.execute_input": "2023-12-06T16:14:25.576311Z",
     "iopub.status.busy": "2023-12-06T16:14:25.575516Z",
     "iopub.status.idle": "2023-12-06T16:14:25.581500Z",
     "shell.execute_reply": "2023-12-06T16:14:25.580534Z"
    },
    "papermill": {
     "duration": 0.241441,
     "end_time": "2023-12-06T16:14:25.583425",
     "exception": false,
     "start_time": "2023-12-06T16:14:25.341984",
     "status": "completed"
    },
    "tags": []
   },
   "outputs": [
    {
     "name": "stdout",
     "output_type": "stream",
     "text": [
      "[]\n"
     ]
    }
   ],
   "source": [
    "import os\n",
    "\n",
    "output_folder = '/kaggle/working/project_frames_resized'\n",
    "\n",
    "# Create the 'test' directory if it doesn't exist\n",
    "test_path = os.path.join(output_folder, 'test')\n",
    "os.makedirs(test_path, exist_ok=True)\n",
    "\n",
    "# List the contents of the 'test' directory\n",
    "print(os.listdir(test_path))\n"
   ]
  },
  {
   "cell_type": "code",
   "execution_count": 30,
   "id": "a46e69a8",
   "metadata": {
    "execution": {
     "iopub.execute_input": "2023-12-06T16:14:25.968419Z",
     "iopub.status.busy": "2023-12-06T16:14:25.968055Z",
     "iopub.status.idle": "2023-12-06T16:14:25.972297Z",
     "shell.execute_reply": "2023-12-06T16:14:25.971517Z"
    },
    "papermill": {
     "duration": 0.198691,
     "end_time": "2023-12-06T16:14:25.974220",
     "exception": false,
     "start_time": "2023-12-06T16:14:25.775529",
     "status": "completed"
    },
    "tags": []
   },
   "outputs": [],
   "source": [
    "test_path = os.path.join(output_folder, 'test')"
   ]
  },
  {
   "cell_type": "code",
   "execution_count": 31,
   "id": "8d025947",
   "metadata": {
    "execution": {
     "iopub.execute_input": "2023-12-06T16:14:26.353254Z",
     "iopub.status.busy": "2023-12-06T16:14:26.352708Z",
     "iopub.status.idle": "2023-12-06T16:14:29.875505Z",
     "shell.execute_reply": "2023-12-06T16:14:29.874499Z"
    },
    "papermill": {
     "duration": 3.714213,
     "end_time": "2023-12-06T16:14:29.877439",
     "exception": false,
     "start_time": "2023-12-06T16:14:26.163226",
     "status": "completed"
    },
    "tags": []
   },
   "outputs": [
    {
     "name": "stdout",
     "output_type": "stream",
     "text": [
      "2/2 [==============================] - 3s 3s/step\n",
      "Video classification accuracy: 37.25%\n"
     ]
    }
   ],
   "source": [
    "import cv2\n",
    "import numpy as np\n",
    "\n",
    "# Assuming you have a function to load and preprocess video frames\n",
    "def load_and_preprocess_video(video_path):\n",
    "    # Your video loading and preprocessing code here\n",
    "    cap = cv2.VideoCapture(video_path)\n",
    "    frames = []\n",
    "\n",
    "    while True:\n",
    "        ret, frame = cap.read()\n",
    "\n",
    "        if not ret:\n",
    "            break\n",
    "\n",
    "        # Preprocess the frame (you need to implement this based on your preprocessing steps)\n",
    "        processed_frame = preprocess_frame(frame)\n",
    "\n",
    "        frames.append(processed_frame)\n",
    "\n",
    "    cap.release()\n",
    "\n",
    "    # Convert the list of frames to a numpy array\n",
    "    processed_frames = np.array(frames)\n",
    "\n",
    "    return processed_frames\n",
    "\n",
    "# Assuming you have the trained 'model' and the preprocessed video frames 'X_video'\n",
    "# Also, assuming you have the true labels for the video frames 'Y_video'\n",
    "\n",
    "# Load and preprocess video frames\n",
    "video_path = '/kaggle/input/final-year-project/project_videos/Walking/video_folder(2).mp4'\n",
    "X_video = load_and_preprocess_video(video_path)\n",
    "\n",
    "# Make predictions on the video frames\n",
    "y_video_pred = model.predict(X_video)\n",
    "\n",
    "# Convert predictions to class labels\n",
    "predicted_video_labels = np.argmax(y_video_pred, axis=1)\n",
    "\n",
    "# Assuming you have true labels for the video frames\n",
    "# Replace Y_video with your actual true labels\n",
    "# For example, if your true labels are stored in a variable named true_labels\n",
    "true_video_labels = true_labels[:len(predicted_video_labels)]  # Ensure the same length\n",
    "\n",
    "# Compare predicted labels with true labels\n",
    "correct_predictions = np.sum(np.equal(predicted_video_labels, true_video_labels))\n",
    "total_frames = len(true_video_labels)\n",
    "\n",
    "# Calculate accuracy\n",
    "accuracy = correct_predictions / total_frames\n",
    "print(f'Video classification accuracy: {accuracy * 100:.2f}%')\n",
    "\n"
   ]
  },
  {
   "cell_type": "code",
   "execution_count": 32,
   "id": "1991c842",
   "metadata": {
    "execution": {
     "iopub.execute_input": "2023-12-06T16:14:30.286281Z",
     "iopub.status.busy": "2023-12-06T16:14:30.285412Z",
     "iopub.status.idle": "2023-12-06T16:15:57.803961Z",
     "shell.execute_reply": "2023-12-06T16:15:57.802936Z"
    },
    "papermill": {
     "duration": 87.712347,
     "end_time": "2023-12-06T16:15:57.806108",
     "exception": false,
     "start_time": "2023-12-06T16:14:30.093761",
     "status": "completed"
    },
    "tags": []
   },
   "outputs": [
    {
     "name": "stdout",
     "output_type": "stream",
     "text": [
      "Epoch 1/10\n",
      "53/53 [==============================] - 12s 238ms/step - loss: 0.0601 - accuracy: 0.9786 - val_loss: 9.6712e-04 - val_accuracy: 1.0000\n",
      "Epoch 2/10\n",
      "53/53 [==============================] - 8s 150ms/step - loss: 0.0332 - accuracy: 0.9864 - val_loss: 0.0020 - val_accuracy: 0.9976\n",
      "Epoch 3/10\n",
      "53/53 [==============================] - 8s 152ms/step - loss: 0.0302 - accuracy: 0.9893 - val_loss: 9.9836e-04 - val_accuracy: 1.0000\n",
      "Epoch 4/10\n",
      "53/53 [==============================] - 8s 152ms/step - loss: 0.0229 - accuracy: 0.9899 - val_loss: 2.6087e-04 - val_accuracy: 1.0000\n",
      "Epoch 5/10\n",
      "53/53 [==============================] - 8s 152ms/step - loss: 0.0210 - accuracy: 0.9917 - val_loss: 1.9581e-04 - val_accuracy: 1.0000\n",
      "Epoch 6/10\n",
      "53/53 [==============================] - 8s 153ms/step - loss: 0.0190 - accuracy: 0.9929 - val_loss: 2.8374e-04 - val_accuracy: 1.0000\n",
      "Epoch 7/10\n",
      "53/53 [==============================] - 8s 153ms/step - loss: 0.0151 - accuracy: 0.9947 - val_loss: 4.2750e-04 - val_accuracy: 1.0000\n",
      "Epoch 8/10\n",
      "53/53 [==============================] - 8s 153ms/step - loss: 0.0149 - accuracy: 0.9953 - val_loss: 5.1331e-04 - val_accuracy: 1.0000\n",
      "Epoch 9/10\n",
      "53/53 [==============================] - 8s 153ms/step - loss: 0.0135 - accuracy: 0.9953 - val_loss: 8.3313e-05 - val_accuracy: 1.0000\n",
      "Epoch 10/10\n",
      "53/53 [==============================] - 8s 153ms/step - loss: 0.0203 - accuracy: 0.9911 - val_loss: 1.4664e-04 - val_accuracy: 1.0000\n",
      "Max Training Accuracy: 99.53%\n",
      "Max Validation Accuracy: 100.00%\n"
     ]
    },
    {
     "data": {
      "image/png": "[encoded data removed]",
      "text/plain": [
       "<Figure size 640x480 with 1 Axes>"
      ]
     },
     "metadata": {},
     "output_type": "display_data"
    }
   ],
   "source": [
    "# Assuming you have trained your model and stored the history object\n",
    "history = model.fit(X_train, Y_train_one_hot, batch_size=batch_size, epochs=epochs, validation_split=0.2)\n",
    "\n",
    "# Get the maximum training accuracy\n",
    "max_train_accuracy = max(history.history['accuracy'])\n",
    "\n",
    "# Get the maximum validation accuracy\n",
    "max_val_accuracy = max(history.history['val_accuracy'])\n",
    "\n",
    "print(f'Max Training Accuracy: {max_train_accuracy * 100:.2f}%')\n",
    "print(f'Max Validation Accuracy: {max_val_accuracy * 100:.2f}%')\n",
    "\n",
    "# Plot training and validation accuracy\n",
    "plt.plot(history.history['accuracy'], label='Training Accuracy')\n",
    "plt.plot(history.history['val_accuracy'], label='Validation Accuracy')\n",
    "plt.title('Training and Validation Accuracy')\n",
    "plt.xlabel('Epoch')\n",
    "plt.ylabel('Accuracy')\n",
    "plt.legend()\n",
    "plt.show()\n",
    "\n"
   ]
  },
  {
   "cell_type": "code",
   "execution_count": 33,
   "id": "f0885977",
   "metadata": {
    "execution": {
     "iopub.execute_input": "2023-12-06T16:15:58.277361Z",
     "iopub.status.busy": "2023-12-06T16:15:58.276391Z",
     "iopub.status.idle": "2023-12-06T16:15:58.487906Z",
     "shell.execute_reply": "2023-12-06T16:15:58.487020Z"
    },
    "papermill": {
     "duration": 0.448726,
     "end_time": "2023-12-06T16:15:58.489969",
     "exception": false,
     "start_time": "2023-12-06T16:15:58.041243",
     "status": "completed"
    },
    "tags": []
   },
   "outputs": [
    {
     "data": {
      "image/png": "[encoded data removed]",
      "text/plain": [
       "<Figure size 640x480 with 1 Axes>"
      ]
     },
     "metadata": {},
     "output_type": "display_data"
    }
   ],
   "source": [
    "import matplotlib.pyplot as plt\n",
    "\n",
    "# Plot training and validation accuracy\n",
    "plt.plot(history.history['accuracy'], label='Training Accuracy')\n",
    "plt.plot(history.history['val_accuracy'], label='Validation Accuracy')\n",
    "plt.title('Training and Validation Accuracy')\n",
    "plt.xlabel('Epoch')\n",
    "plt.ylabel('Accuracy')\n",
    "plt.legend()\n",
    "plt.show()\n"
   ]
  },
  {
   "cell_type": "code",
   "execution_count": 34,
   "id": "62c745c7",
   "metadata": {
    "execution": {
     "iopub.execute_input": "2023-12-06T16:15:59.002219Z",
     "iopub.status.busy": "2023-12-06T16:15:59.001827Z",
     "iopub.status.idle": "2023-12-06T16:15:59.727969Z",
     "shell.execute_reply": "2023-12-06T16:15:59.727109Z"
    },
    "papermill": {
     "duration": 1.008276,
     "end_time": "2023-12-06T16:15:59.730232",
     "exception": false,
     "start_time": "2023-12-06T16:15:58.721956",
     "status": "completed"
    },
    "tags": []
   },
   "outputs": [],
   "source": [
    "from tensorflow.keras.applications.vgg16 import VGG16, preprocess_input\n",
    "from tensorflow.keras.models import Model\n",
    "\n",
    "# Specify the path to the uploaded weights file in the Kaggle dataset\n",
    "weights_path = '/kaggle/input/vgg16-weight/vgg16_weights_tf_dim_ordering_tf_kernels_notop (1).h5'\n",
    "\n",
    "base_model = VGG16(weights=weights_path, include_top=False)\n"
   ]
  },
  {
   "cell_type": "code",
   "execution_count": null,
   "id": "23d1de6f",
   "metadata": {
    "papermill": {
     "duration": 0.228079,
     "end_time": "2023-12-06T16:16:00.201236",
     "exception": false,
     "start_time": "2023-12-06T16:15:59.973157",
     "status": "completed"
    },
    "tags": []
   },
   "outputs": [],
   "source": []
  },
  {
   "cell_type": "code",
   "execution_count": 35,
   "id": "1397a1e0",
   "metadata": {
    "execution": {
     "iopub.execute_input": "2023-12-06T16:16:00.663929Z",
     "iopub.status.busy": "2023-12-06T16:16:00.663030Z",
     "iopub.status.idle": "2023-12-06T16:16:03.828855Z",
     "shell.execute_reply": "2023-12-06T16:16:03.827771Z"
    },
    "papermill": {
     "duration": 3.39874,
     "end_time": "2023-12-06T16:16:03.831141",
     "exception": false,
     "start_time": "2023-12-06T16:16:00.432401",
     "status": "completed"
    },
    "tags": []
   },
   "outputs": [
    {
     "name": "stdout",
     "output_type": "stream",
     "text": [
      "17/17 [==============================] - 2s 121ms/step\n"
     ]
    },
    {
     "data": {
      "image/png": "[encoded data removed]",
      "text/plain": [
       "<Figure size 800x600 with 2 Axes>"
      ]
     },
     "metadata": {},
     "output_type": "display_data"
    }
   ],
   "source": [
    "import numpy as np\n",
    "import seaborn as sns\n",
    "import matplotlib.pyplot as plt\n",
    "from sklearn.metrics import confusion_matrix, classification_report\n",
    "\n",
    "# Make predictions on the test data\n",
    "y_pred = model.predict(X_test)\n",
    "\n",
    "# Convert predictions to class labels\n",
    "predicted_labels = np.argmax(y_pred, axis=1)\n",
    "\n",
    "# Convert true labels to class labels\n",
    "true_labels = np.argmax(Y_test_one_hot, axis=1)\n",
    "\n",
    "# Generate confusion matrix\n",
    "cm = confusion_matrix(true_labels, predicted_labels)\n",
    "\n",
    "# Plot confusion matrix as heatmap\n",
    "plt.figure(figsize=(8, 6))\n",
    "sns.heatmap(cm, annot=True, fmt='d', cmap='Blues', xticklabels=np.unique(true_labels), yticklabels=np.unique(true_labels))\n",
    "plt.xlabel('Predicted Labels')\n",
    "plt.ylabel('True Labels')\n",
    "plt.title('Confusion Matrix')\n",
    "plt.show()\n",
    "\n",
    "\n"
   ]
  },
  {
   "cell_type": "code",
   "execution_count": 36,
   "id": "4e5f31b3",
   "metadata": {
    "execution": {
     "iopub.execute_input": "2023-12-06T16:16:04.323244Z",
     "iopub.status.busy": "2023-12-06T16:16:04.322853Z",
     "iopub.status.idle": "2023-12-06T16:16:04.336631Z",
     "shell.execute_reply": "2023-12-06T16:16:04.335495Z"
    },
    "papermill": {
     "duration": 0.258909,
     "end_time": "2023-12-06T16:16:04.338705",
     "exception": false,
     "start_time": "2023-12-06T16:16:04.079796",
     "status": "completed"
    },
    "tags": []
   },
   "outputs": [
    {
     "name": "stdout",
     "output_type": "stream",
     "text": [
      "              precision    recall  f1-score   support\n",
      "\n",
      "           0       1.00      1.00      1.00        72\n",
      "           1       1.00      1.00      1.00        42\n",
      "           2       1.00      1.00      1.00        36\n",
      "           3       1.00      1.00      1.00        92\n",
      "           4       1.00      1.00      1.00        57\n",
      "           5       1.00      1.00      1.00       186\n",
      "           6       1.00      1.00      1.00        43\n",
      "\n",
      "    accuracy                           1.00       528\n",
      "   macro avg       1.00      1.00      1.00       528\n",
      "weighted avg       1.00      1.00      1.00       528\n",
      "\n"
     ]
    }
   ],
   "source": [
    "# Print classification report\n",
    "print(classification_report(true_labels, predicted_labels))"
   ]
  },
  {
   "cell_type": "code",
   "execution_count": 37,
   "id": "0a6e07ce",
   "metadata": {
    "execution": {
     "iopub.execute_input": "2023-12-06T16:16:04.834352Z",
     "iopub.status.busy": "2023-12-06T16:16:04.833958Z",
     "iopub.status.idle": "2023-12-06T16:16:07.489447Z",
     "shell.execute_reply": "2023-12-06T16:16:07.488492Z"
    },
    "papermill": {
     "duration": 2.898042,
     "end_time": "2023-12-06T16:16:07.491866",
     "exception": false,
     "start_time": "2023-12-06T16:16:04.593824",
     "status": "completed"
    },
    "tags": []
   },
   "outputs": [
    {
     "name": "stdout",
     "output_type": "stream",
     "text": [
      "17/17 [==============================] - 2s 119ms/step\n"
     ]
    },
    {
     "data": {
      "image/png": "[encoded data removed]",
      "text/plain": [
       "<Figure size 800x600 with 2 Axes>"
      ]
     },
     "metadata": {},
     "output_type": "display_data"
    }
   ],
   "source": [
    "import numpy as np\n",
    "import pandas as pd\n",
    "import seaborn as sns\n",
    "import matplotlib.pyplot as plt\n",
    "from sklearn.metrics import confusion_matrix, classification_report\n",
    "\n",
    "# Make predictions on the test data\n",
    "y_pred = model.predict(X_test)\n",
    "\n",
    "# Convert predictions to class labels\n",
    "predicted_labels = np.argmax(y_pred, axis=1)\n",
    "\n",
    "# Convert true labels to class labels\n",
    "true_labels = np.argmax(Y_test_one_hot, axis=1)\n",
    "\n",
    "# Generate confusion matrix\n",
    "cm = confusion_matrix(true_labels, predicted_labels)\n",
    "\n",
    "# Plot confusion matrix as heatmap\n",
    "plt.figure(figsize=(8, 6))\n",
    "sns.heatmap(cm, annot=True, fmt='d', cmap='Blues', xticklabels=np.unique(true_labels), yticklabels=np.unique(true_labels))\n",
    "plt.xlabel('Predicted Labels')\n",
    "plt.ylabel('True Labels')\n",
    "plt.title('Confusion Matrix')\n",
    "plt.show()\n",
    "\n",
    "# Create a DataFrame for Seaborn\n",
    "data = pd.DataFrame({\n",
    "    'True Labels': true_labels,\n",
    "    'Predicted Labels': predicted_labels\n",
    "})\n",
    "\n"
   ]
  },
  {
   "cell_type": "code",
   "execution_count": 38,
   "id": "0510fc30",
   "metadata": {
    "execution": {
     "iopub.execute_input": "2023-12-06T16:16:07.970296Z",
     "iopub.status.busy": "2023-12-06T16:16:07.969645Z",
     "iopub.status.idle": "2023-12-06T16:16:08.271562Z",
     "shell.execute_reply": "2023-12-06T16:16:08.270619Z"
    },
    "papermill": {
     "duration": 0.546091,
     "end_time": "2023-12-06T16:16:08.273497",
     "exception": false,
     "start_time": "2023-12-06T16:16:07.727406",
     "status": "completed"
    },
    "tags": []
   },
   "outputs": [
    {
     "data": {
      "image/png": "[encoded data removed]",
      "text/plain": [
       "<Figure size 1200x800 with 1 Axes>"
      ]
     },
     "metadata": {},
     "output_type": "display_data"
    }
   ],
   "source": [
    "import os\n",
    "import cv2\n",
    "import matplotlib.pyplot as plt\n",
    "import seaborn as sns\n",
    "import pandas as pd\n",
    "\n",
    "# Define the input folder containing frames\n",
    "input_folder = '/kaggle/working/project_frames_resized/train'\n",
    "\n",
    "# Create a list of activities based on subfolder names\n",
    "activities = os.listdir(input_folder)\n",
    "\n",
    "# Initialize a dictionary to store frame counts for each activity\n",
    "frame_counts_by_activity = {}\n",
    "\n",
    "# Process each activity folder\n",
    "for activity in activities:\n",
    "    activity_path = os.path.join(input_folder, activity)\n",
    "    \n",
    "    # Initialize a list to store frame counts for the current activity\n",
    "    frame_counts = []\n",
    "    \n",
    "    # Process each video file in the activity folder\n",
    "    for video_file in os.listdir(activity_path):\n",
    "        video_path = os.path.join(activity_path, video_file)\n",
    "        \n",
    "        # Count the frames in the video\n",
    "        frame_count = len(os.listdir(video_path))\n",
    "        frame_counts.append(frame_count)\n",
    "    \n",
    "    # Store the frame counts for the current activity\n",
    "    frame_counts_by_activity[activity] = frame_counts\n",
    "\n",
    "# Create a DataFrame for Seaborn\n",
    "data = pd.DataFrame({\n",
    "    'Activity': [activity for activity in frame_counts_by_activity for _ in frame_counts_by_activity[activity]],\n",
    "    'Frame Count': [count for activity in frame_counts_by_activity for count in frame_counts_by_activity[activity]]\n",
    "})\n",
    "\n",
    "# Create a box plot using Seaborn\n",
    "plt.figure(figsize=(12, 8))\n",
    "sns.boxplot(x='Activity', y='Frame Count', data=data)\n",
    "plt.xlabel('Activity')\n",
    "plt.ylabel('Frame Count')\n",
    "plt.title('Box Plot of Frame Counts by Activity')\n",
    "plt.xticks(rotation=45, ha='right')\n",
    "plt.show()\n"
   ]
  }
 ],
 "metadata": {
  "kaggle": {
   "accelerator": "nvidiaTeslaT4",
   "dataSources": [
    {
     "datasetId": 3875564,
     "sourceId": 6728250,
     "sourceType": "datasetVersion"
    },
    {
     "datasetId": 3905665,
     "sourceId": 6788493,
     "sourceType": "datasetVersion"
    },
    {
     "datasetId": 3907667,
     "sourceId": 6792523,
     "sourceType": "datasetVersion"
    },
    {
     "datasetId": 4085377,
     "sourceId": 7089859,
     "sourceType": "datasetVersion"
    },
    {
     "modelInstanceId": 346,
     "sourceId": 469,
     "sourceType": "modelInstanceVersion"
    }
   ],
   "dockerImageVersionId": 30558,
   "isGpuEnabled": true,
   "isInternetEnabled": false,
   "language": "python",
   "sourceType": "notebook"
  },
  "kernelspec": {
   "display_name": "Python 3",
   "language": "python",
   "name": "python3"
  },
  "language_info": {
   "codemirror_mode": {
    "name": "ipython",
    "version": 3
   },
   "file_extension": ".py",
   "mimetype": "text/x-python",
   "name": "python",
   "nbconvert_exporter": "python",
   "pygments_lexer": "ipython3",
   "version": "3.10.12"
  },
  "papermill": {
   "default_parameters": {},
   "duration": 976.22609,
   "end_time": "2023-12-06T16:16:11.837851",
   "environment_variables": {},
   "exception": null,
   "input_path": "__notebook__.ipynb",
   "output_path": "__notebook__.ipynb",
   "parameters": {},
   "start_time": "2023-12-06T15:59:55.611761",
   "version": "2.4.0"
  }
 },
 "nbformat": 4,
 "nbformat_minor": 5
}
